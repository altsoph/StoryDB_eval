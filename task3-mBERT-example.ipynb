{
 "cells": [
  {
   "cell_type": "code",
   "execution_count": 1,
   "metadata": {},
   "outputs": [],
   "source": [
    "import numpy as np\n",
    "import pandas as pd\n",
    "from sklearn import metrics\n",
    "from collections import Counter, defaultdict\n",
    "import json"
   ]
  },
  {
   "cell_type": "code",
   "execution_count": 2,
   "metadata": {},
   "outputs": [],
   "source": [
    "import wandb"
   ]
  },
  {
   "cell_type": "code",
   "execution_count": 3,
   "metadata": {},
   "outputs": [
    {
     "name": "stderr",
     "output_type": "stream",
     "text": [
      "wandb: Appending key for api.wandb.ai to your netrc file: C:\\Users\\Altsoph/.netrc\n"
     ]
    }
   ],
   "source": [
    "!wandb login ..."
   ]
  },
  {
   "cell_type": "code",
   "execution_count": 4,
   "metadata": {},
   "outputs": [
    {
     "name": "stderr",
     "output_type": "stream",
     "text": [
      "wandb: Currently logged in as: altsoph (use `wandb login --relogin` to force relogin)\n"
     ]
    },
    {
     "data": {
      "text/html": [
       "\n",
       "                Tracking run with wandb version 0.11.0<br/>\n",
       "                Syncing run <strong style=\"color:#cdcd00\">devout-sponge-16</strong> to <a href=\"https://wandb.ai\" target=\"_blank\">Weights & Biases</a> <a href=\"https://docs.wandb.com/integrations/jupyter.html\" target=\"_blank\">(Documentation)</a>.<br/>\n",
       "                Project page: <a href=\"https://wandb.ai/altsoph/storydb_eval.task3\" target=\"_blank\">https://wandb.ai/altsoph/storydb_eval.task3</a><br/>\n",
       "                Run page: <a href=\"https://wandb.ai/altsoph/storydb_eval.task3/runs/2n42l4ub\" target=\"_blank\">https://wandb.ai/altsoph/storydb_eval.task3/runs/2n42l4ub</a><br/>\n",
       "                Run data is saved locally in <code>E:\\!Incoming_projects\\StoryDB_eval\\wandb\\run-20210718_163755-2n42l4ub</code><br/><br/>\n",
       "            "
      ],
      "text/plain": [
       "<IPython.core.display.HTML object>"
      ]
     },
     "metadata": {},
     "output_type": "display_data"
    },
    {
     "data": {
      "text/html": [
       "<h1>Run(2n42l4ub)</h1><iframe src=\"https://wandb.ai/altsoph/storydb_eval.task3/runs/2n42l4ub\" style=\"border:none;width:100%;height:400px\"></iframe>"
      ],
      "text/plain": [
       "<wandb.sdk.wandb_run.Run at 0x145fea60>"
      ]
     },
     "execution_count": 4,
     "metadata": {},
     "output_type": "execute_result"
    }
   ],
   "source": [
    "wandb.init(project=\"storydb_eval.task3\", reinit=True)"
   ]
  },
  {
   "cell_type": "code",
   "execution_count": 5,
   "metadata": {},
   "outputs": [],
   "source": [
    "work_tags = ['drama',\n",
    " 'comedy',\n",
    " 'television',\n",
    " 'fiction',\n",
    " 'series',\n",
    " 'action',\n",
    " 'thriller',\n",
    " 'black-and-white',\n",
    " 'science fiction',\n",
    " 'horror']\n",
    "work_langs = ['en', 'fr', 'it', 'ru', 'de', 'nl'] # , 'uk', 'pt', 'pl', 'es']"
   ]
  },
  {
   "cell_type": "code",
   "execution_count": 6,
   "metadata": {},
   "outputs": [
    {
     "data": {
      "text/html": [
       "<div>\n",
       "<style scoped>\n",
       "    .dataframe tbody tr th:only-of-type {\n",
       "        vertical-align: middle;\n",
       "    }\n",
       "\n",
       "    .dataframe tbody tr th {\n",
       "        vertical-align: top;\n",
       "    }\n",
       "\n",
       "    .dataframe thead th {\n",
       "        text-align: right;\n",
       "    }\n",
       "</style>\n",
       "<table border=\"1\" class=\"dataframe\">\n",
       "  <thead>\n",
       "    <tr style=\"text-align: right;\">\n",
       "      <th></th>\n",
       "      <th>Unnamed: 0</th>\n",
       "      <th>text</th>\n",
       "      <th>labels</th>\n",
       "      <th>language</th>\n",
       "      <th>plot_id</th>\n",
       "    </tr>\n",
       "  </thead>\n",
       "  <tbody>\n",
       "    <tr>\n",
       "      <th>0</th>\n",
       "      <td>0</td>\n",
       "      <td>Ed is a very opinionated 72-year-old who has b...</td>\n",
       "      <td>[0, 0, 1, 0, 1, 0, 0, 0, 0, 0]</td>\n",
       "      <td>en</td>\n",
       "      <td>8517</td>\n",
       "    </tr>\n",
       "    <tr>\n",
       "      <th>1</th>\n",
       "      <td>1</td>\n",
       "      <td>\"Cameron James, a new student at Padua High Sc...</td>\n",
       "      <td>[0, 1, 1, 0, 0, 0, 0, 0, 0, 0]</td>\n",
       "      <td>en</td>\n",
       "      <td>410</td>\n",
       "    </tr>\n",
       "    <tr>\n",
       "      <th>2</th>\n",
       "      <td>2</td>\n",
       "      <td>\"Geek Hlynur is approaching 30 years old, stil...</td>\n",
       "      <td>[0, 1, 0, 0, 0, 0, 0, 0, 0, 0]</td>\n",
       "      <td>en</td>\n",
       "      <td>2705</td>\n",
       "    </tr>\n",
       "    <tr>\n",
       "      <th>3</th>\n",
       "      <td>3</td>\n",
       "      <td>In April 2003, avid mountaineer Aron Ralston (...</td>\n",
       "      <td>[1, 0, 0, 0, 0, 0, 0, 0, 0, 0]</td>\n",
       "      <td>en</td>\n",
       "      <td>333</td>\n",
       "    </tr>\n",
       "    <tr>\n",
       "      <th>4</th>\n",
       "      <td>4</td>\n",
       "      <td>The film opens with a group of wakeboarders be...</td>\n",
       "      <td>[0, 0, 1, 1, 0, 1, 0, 0, 0, 1]</td>\n",
       "      <td>en</td>\n",
       "      <td>10429</td>\n",
       "    </tr>\n",
       "    <tr>\n",
       "      <th>...</th>\n",
       "      <td>...</td>\n",
       "      <td>...</td>\n",
       "      <td>...</td>\n",
       "      <td>...</td>\n",
       "      <td>...</td>\n",
       "    </tr>\n",
       "    <tr>\n",
       "      <th>8623</th>\n",
       "      <td>8623</td>\n",
       "      <td>Alice Racine is een voormalige CIA-agente. Get...</td>\n",
       "      <td>[0, 0, 0, 0, 0, 1, 1, 0, 0, 0]</td>\n",
       "      <td>nl</td>\n",
       "      <td>8844</td>\n",
       "    </tr>\n",
       "    <tr>\n",
       "      <th>8624</th>\n",
       "      <td>8624</td>\n",
       "      <td>Danny zit in zijn laatste jaar op de universit...</td>\n",
       "      <td>[1, 0, 0, 0, 0, 0, 0, 0, 0, 0]</td>\n",
       "      <td>nl</td>\n",
       "      <td>10597</td>\n",
       "    </tr>\n",
       "    <tr>\n",
       "      <th>8625</th>\n",
       "      <td>8625</td>\n",
       "      <td>Hoofdfiguur in de serie is een kleine jonge pi...</td>\n",
       "      <td>[0, 0, 1, 0, 1, 0, 0, 0, 0, 0]</td>\n",
       "      <td>nl</td>\n",
       "      <td>5803</td>\n",
       "    </tr>\n",
       "    <tr>\n",
       "      <th>8626</th>\n",
       "      <td>8626</td>\n",
       "      <td>Thomas Harbor geeft een interview over een ont...</td>\n",
       "      <td>[1, 0, 0, 1, 0, 0, 0, 0, 1, 0]</td>\n",
       "      <td>nl</td>\n",
       "      <td>6047</td>\n",
       "    </tr>\n",
       "    <tr>\n",
       "      <th>8627</th>\n",
       "      <td>8627</td>\n",
       "      <td>Wolf von Frankenstein heeft het kasteel van zi...</td>\n",
       "      <td>[0, 0, 0, 0, 0, 0, 0, 0, 0, 1]</td>\n",
       "      <td>nl</td>\n",
       "      <td>6806</td>\n",
       "    </tr>\n",
       "  </tbody>\n",
       "</table>\n",
       "<p>8628 rows × 5 columns</p>\n",
       "</div>"
      ],
      "text/plain": [
       "      Unnamed: 0                                               text  \\\n",
       "0              0  Ed is a very opinionated 72-year-old who has b...   \n",
       "1              1  \"Cameron James, a new student at Padua High Sc...   \n",
       "2              2  \"Geek Hlynur is approaching 30 years old, stil...   \n",
       "3              3  In April 2003, avid mountaineer Aron Ralston (...   \n",
       "4              4  The film opens with a group of wakeboarders be...   \n",
       "...          ...                                                ...   \n",
       "8623        8623  Alice Racine is een voormalige CIA-agente. Get...   \n",
       "8624        8624  Danny zit in zijn laatste jaar op de universit...   \n",
       "8625        8625  Hoofdfiguur in de serie is een kleine jonge pi...   \n",
       "8626        8626  Thomas Harbor geeft een interview over een ont...   \n",
       "8627        8627  Wolf von Frankenstein heeft het kasteel van zi...   \n",
       "\n",
       "                              labels language  plot_id  \n",
       "0     [0, 0, 1, 0, 1, 0, 0, 0, 0, 0]       en     8517  \n",
       "1     [0, 1, 1, 0, 0, 0, 0, 0, 0, 0]       en      410  \n",
       "2     [0, 1, 0, 0, 0, 0, 0, 0, 0, 0]       en     2705  \n",
       "3     [1, 0, 0, 0, 0, 0, 0, 0, 0, 0]       en      333  \n",
       "4     [0, 0, 1, 1, 0, 1, 0, 0, 0, 1]       en    10429  \n",
       "...                              ...      ...      ...  \n",
       "8623  [0, 0, 0, 0, 0, 1, 1, 0, 0, 0]       nl     8844  \n",
       "8624  [1, 0, 0, 0, 0, 0, 0, 0, 0, 0]       nl    10597  \n",
       "8625  [0, 0, 1, 0, 1, 0, 0, 0, 0, 0]       nl     5803  \n",
       "8626  [1, 0, 0, 1, 0, 0, 0, 0, 1, 0]       nl     6047  \n",
       "8627  [0, 0, 0, 0, 0, 0, 0, 0, 0, 1]       nl     6806  \n",
       "\n",
       "[8628 rows x 5 columns]"
      ]
     },
     "execution_count": 6,
     "metadata": {},
     "output_type": "execute_result"
    }
   ],
   "source": [
    "df = pd.read_csv('dataset3.csv')\n",
    "df"
   ]
  },
  {
   "cell_type": "code",
   "execution_count": 7,
   "metadata": {},
   "outputs": [
    {
     "data": {
      "text/plain": [
       "array([0, 0, 1, 0, 1, 0, 0, 0, 0, 0])"
      ]
     },
     "execution_count": 7,
     "metadata": {},
     "output_type": "execute_result"
    }
   ],
   "source": [
    "df['labels'] = df['labels'].map( lambda x: np.array(json.loads(x)) )\n",
    "new_df = df.copy()\n",
    "df.labels[0]"
   ]
  },
  {
   "cell_type": "code",
   "execution_count": 9,
   "metadata": {},
   "outputs": [],
   "source": [
    "import warnings\n",
    "warnings.simplefilter('ignore')\n",
    "import numpy as np\n",
    "import pandas as pd\n",
    "from tqdm import tqdm\n",
    "from sklearn import metrics\n",
    "import transformers\n",
    "import torch\n",
    "from torch.utils.data import Dataset, DataLoader, RandomSampler, SequentialSampler\n",
    "from transformers import AutoTokenizer, AutoModel # DistilBertTokenizer, DistilBertModel\n",
    "import logging\n",
    "logging.basicConfig(level=logging.ERROR)"
   ]
  },
  {
   "cell_type": "code",
   "execution_count": 10,
   "metadata": {},
   "outputs": [],
   "source": [
    "from torch import cuda\n",
    "device = 'cuda' if cuda.is_available() else 'cpu'"
   ]
  },
  {
   "cell_type": "code",
   "execution_count": null,
   "metadata": {},
   "outputs": [],
   "source": [
    "# some code is taken from https://github.com/DhavalTaunk08/NLP_scripts/blob/master/Transformers_multilabel_distilbert.ipynb"
   ]
  },
  {
   "cell_type": "code",
   "execution_count": 11,
   "metadata": {},
   "outputs": [],
   "source": [
    "def hamming_score(y_true, y_pred, normalize=True, sample_weight=None):\n",
    "    acc_list = []\n",
    "    for i in range(y_true.shape[0]):\n",
    "        set_true = set( np.where(y_true[i])[0] )\n",
    "        set_pred = set( np.where(y_pred[i])[0] )\n",
    "        tmp_a = None\n",
    "        if len(set_true) == 0 and len(set_pred) == 0:\n",
    "            tmp_a = 1\n",
    "        else:\n",
    "            tmp_a = len(set_true.intersection(set_pred))/\\\n",
    "                    float( len(set_true.union(set_pred)) )\n",
    "        acc_list.append(tmp_a)\n",
    "    return np.mean(acc_list)"
   ]
  },
  {
   "cell_type": "code",
   "execution_count": 12,
   "metadata": {},
   "outputs": [],
   "source": [
    "\n",
    "# Sections of config\n",
    "\n",
    "# Defining some key variables that will be used later on in the training\n",
    "MAX_LEN = 128\n",
    "TRAIN_BATCH_SIZE = 4*4\n",
    "VALID_BATCH_SIZE = 4*16\n",
    "EPOCHS = 10\n",
    "CLASSES = 10\n",
    "LEARNING_RATE = 1e-05\n",
    "\n",
    "\n",
    "SAVE_PREFIX = 'mBERT_crossling'\n",
    "LOG_PREFIX = 'mBERT'\n",
    "MODEL = 'bert-base-multilingual-cased'"
   ]
  },
  {
   "cell_type": "code",
   "execution_count": 13,
   "metadata": {},
   "outputs": [],
   "source": [
    "tokenizer = AutoTokenizer.from_pretrained(MODEL, truncation=True, do_lower_case=False)"
   ]
  },
  {
   "cell_type": "code",
   "execution_count": 14,
   "metadata": {},
   "outputs": [],
   "source": [
    "class MultiLabelDataset(Dataset):\n",
    "\n",
    "    def __init__(self, dataframe, tokenizer, max_len):\n",
    "        self.tokenizer = tokenizer\n",
    "        self.data = dataframe\n",
    "        self.text = dataframe.text\n",
    "        self.targets = self.data.labels\n",
    "        self.max_len = max_len\n",
    "\n",
    "    def __len__(self):\n",
    "        return len(self.text)\n",
    "\n",
    "    def __getitem__(self, index):\n",
    "        text = str(self.text[index])\n",
    "        text = \" \".join(text.split())\n",
    "\n",
    "        inputs = self.tokenizer.encode_plus(\n",
    "            text,\n",
    "            None,\n",
    "            add_special_tokens=True,\n",
    "            max_length=self.max_len,\n",
    "            pad_to_max_length=True,\n",
    "            return_token_type_ids=True\n",
    "        )\n",
    "        ids = inputs['input_ids']\n",
    "        mask = inputs['attention_mask']\n",
    "        token_type_ids = inputs[\"token_type_ids\"]\n",
    "\n",
    "\n",
    "        return {\n",
    "            'ids': torch.tensor(ids, dtype=torch.long),\n",
    "            'mask': torch.tensor(mask, dtype=torch.long),\n",
    "            'token_type_ids': torch.tensor(token_type_ids, dtype=torch.long),\n",
    "            'targets': torch.tensor(self.targets[index], dtype=torch.float)\n",
    "        }"
   ]
  },
  {
   "cell_type": "code",
   "execution_count": 15,
   "metadata": {},
   "outputs": [
    {
     "name": "stdout",
     "output_type": "stream",
     "text": [
      "FULL Dataset: (8628, 5)\n",
      "TRAIN Dataset: (6902, 5)\n",
      "TEST Dataset: (1726, 5)\n"
     ]
    }
   ],
   "source": [
    "# Creating the dataset and dataloader for the neural network\n",
    "\n",
    "train_size = 0.8\n",
    "train_data=new_df.sample(frac=train_size,random_state=200)\n",
    "test_data=new_df.drop(train_data.index).reset_index(drop=True)\n",
    "train_data = train_data.reset_index(drop=True)\n",
    "\n",
    "\n",
    "print(\"FULL Dataset: {}\".format(new_df.shape))\n",
    "print(\"TRAIN Dataset: {}\".format(train_data.shape))\n",
    "print(\"TEST Dataset: {}\".format(test_data.shape))\n",
    "\n",
    "training_set = MultiLabelDataset(train_data, tokenizer, MAX_LEN)\n",
    "testing_set = MultiLabelDataset(test_data, tokenizer, MAX_LEN)"
   ]
  },
  {
   "cell_type": "code",
   "execution_count": 16,
   "metadata": {},
   "outputs": [],
   "source": [
    "train_params = {'batch_size': TRAIN_BATCH_SIZE,\n",
    "                'shuffle': True,\n",
    "                'num_workers': 0\n",
    "                }\n",
    "\n",
    "test_params = {'batch_size': VALID_BATCH_SIZE,\n",
    "                'shuffle': True,\n",
    "                'num_workers': 0\n",
    "                }\n",
    "\n",
    "training_loader = DataLoader(training_set, **train_params)\n",
    "testing_loader = DataLoader(testing_set, **test_params)"
   ]
  },
  {
   "cell_type": "code",
   "execution_count": 17,
   "metadata": {},
   "outputs": [],
   "source": [
    "# Creating the customized model, by adding a drop out and a dense layer on top of distil bert to get the final output for the model. \n",
    "\n",
    "class WorkModel(torch.nn.Module):\n",
    "    def __init__(self):\n",
    "        super(WorkModel, self).__init__()\n",
    "        self.l1 = AutoModel.from_pretrained(MODEL)\n",
    "        self.pre_classifier = torch.nn.Linear(768, 768)\n",
    "        self.dropout = torch.nn.Dropout(0.1)\n",
    "        self.classifier = torch.nn.Linear(768, CLASSES)\n",
    "\n",
    "    def forward(self, input_ids, attention_mask, token_type_ids):\n",
    "        output_1 = self.l1(input_ids=input_ids, attention_mask=attention_mask)\n",
    "        hidden_state = output_1[0]\n",
    "        pooler = hidden_state[:, 0]\n",
    "        pooler = self.pre_classifier(pooler)\n",
    "        pooler = torch.nn.Tanh()(pooler)\n",
    "        pooler = self.dropout(pooler)\n",
    "        output = self.classifier(pooler)\n",
    "        return output\n",
    "\n",
    "\n",
    "# wandb.watch(model, log=\"all\")"
   ]
  },
  {
   "cell_type": "code",
   "execution_count": 18,
   "metadata": {},
   "outputs": [],
   "source": [
    "def loss_fn(outputs, targets):\n",
    "    return torch.nn.BCEWithLogitsLoss()(outputs, targets)\n"
   ]
  },
  {
   "cell_type": "code",
   "execution_count": 19,
   "metadata": {},
   "outputs": [],
   "source": [
    "def train(epoch):\n",
    "    model.train()\n",
    "    for _,data in tqdm(enumerate(training_loader, 0)):\n",
    "        ids = data['ids'].to(device, dtype = torch.long)\n",
    "        mask = data['mask'].to(device, dtype = torch.long)\n",
    "        token_type_ids = data['token_type_ids'].to(device, dtype = torch.long)\n",
    "        targets = data['targets'].to(device, dtype = torch.float)\n",
    "\n",
    "        outputs = model(ids, mask, token_type_ids)\n",
    "\n",
    "        optimizer.zero_grad()\n",
    "        loss = loss_fn(outputs, targets)\n",
    "        if _%5000==0:\n",
    "            print(f'Epoch: {epoch}, Loss:  {loss.item()}')\n",
    "        \n",
    "        optimizer.zero_grad()\n",
    "        loss.backward()\n",
    "        optimizer.step()\n",
    "        \n",
    "def validation(testing_loader):\n",
    "    model.eval()\n",
    "    fin_targets=[]\n",
    "    fin_outputs=[]\n",
    "    with torch.no_grad():\n",
    "        for _, data in tqdm(enumerate(testing_loader, 0)):\n",
    "            ids = data['ids'].to(device, dtype = torch.long)\n",
    "            mask = data['mask'].to(device, dtype = torch.long)\n",
    "            token_type_ids = data['token_type_ids'].to(device, dtype = torch.long)\n",
    "            targets = data['targets'].to(device, dtype = torch.float)\n",
    "            outputs = model(ids, mask, token_type_ids)\n",
    "            fin_targets.extend(targets.cpu().detach().numpy().tolist())\n",
    "            fin_outputs.extend(torch.sigmoid(outputs).cpu().detach().numpy().tolist())\n",
    "    return fin_outputs, fin_targets        \n",
    "\n",
    "def valid(testing_loader, epoch=-1):\n",
    "    outputs, targets = validation(testing_loader)\n",
    "    final_outputs = np.array(outputs) >=0.5\n",
    "    val_hamming_loss = metrics.hamming_loss(targets, final_outputs)\n",
    "    val_hamming_score = hamming_score(np.array(targets), np.array(final_outputs))\n",
    "    acc = metrics.accuracy_score(targets, final_outputs)\n",
    "    print(f'Acc = {acc}')\n",
    "    print(\"AUROC per tag\")\n",
    "    wandb.log({\"hamming_score\": val_hamming_score, \"hamming_loss\": val_hamming_loss,\n",
    "              \"acc\": metrics.accuracy_score(targets, final_outputs), 'epoch':epoch,\n",
    "              'model': LOG_PREFIX})\n",
    "    for i, name in enumerate(work_tags):\n",
    "        try:\n",
    "            tag_auroc = metrics.roc_auc_score(np.array(targets)[:, i], final_outputs[:, i]) # , pos_label=1)\n",
    "            wandb.log({f\"tag_aucroc/{name}\": metrics.roc_auc_score(np.array(targets)[:, i], final_outputs[:, i]),\n",
    "                   f\"tag_acc/{name}\": metrics.accuracy_score(np.array(targets)[:, i], final_outputs[:, i]), 'epoch':epoch,\n",
    "                       'model': LOG_PREFIX\n",
    "                  })\n",
    "        except:\n",
    "            pass\n",
    "#     for cl in work_langs:\n",
    "#         lang_test_data = test_data[test_data['language']==cl]\n",
    "#         lang_test_data = lang_test_data.reset_index(drop=True)\n",
    "#         lang_testing_set = MultiLabelDataset(lang_test_data, tokenizer, MAX_LEN)\n",
    "#         lang_testing_loader = DataLoader(lang_testing_set, **test_params)\n",
    "#         lang_outputs, lang_targets = validation(lang_testing_loader)\n",
    "#         lang_final_outputs = np.array(lang_outputs) >=0.5\n",
    "#         wandb.log({f\"lang_acc/{cl}\": metrics.accuracy_score(lang_targets, lang_final_outputs), 'epoch':epoch, 'model': LOG_PREFIX})\n",
    "    return acc\n",
    "\n",
    "def valid_cross(nl, epoch=-1):\n",
    "    for cl in work_langs:\n",
    "        lang_test_data = new_df.copy()\n",
    "        lang_test_data = lang_test_data[lang_test_data['language']==cl]\n",
    "        lang_test_data = lang_test_data.reset_index(drop=True)\n",
    "        lang_testing_set = MultiLabelDataset(lang_test_data, tokenizer, MAX_LEN)\n",
    "        lang_testing_loader = DataLoader(lang_testing_set, **test_params)\n",
    "        lang_outputs, lang_targets = validation(lang_testing_loader)\n",
    "        lang_final_outputs = np.array(lang_outputs) >=0.5\n",
    "        wandb.log({f\"lang_acc/{cl}\": metrics.accuracy_score(lang_targets, lang_final_outputs),'model': LOG_PREFIX, 'epoch':epoch})\n",
    "    return acc"
   ]
  },
  {
   "cell_type": "code",
   "execution_count": 20,
   "metadata": {
    "scrolled": true
   },
   "outputs": [
    {
     "data": {
      "text/html": [
       "Finishing last run (ID:2n42l4ub) before initializing another..."
      ],
      "text/plain": [
       "<IPython.core.display.HTML object>"
      ]
     },
     "metadata": {},
     "output_type": "display_data"
    },
    {
     "data": {
      "text/html": [
       "<br/>Waiting for W&B process to finish, PID 20572<br/>Program ended successfully."
      ],
      "text/plain": [
       "<IPython.core.display.HTML object>"
      ]
     },
     "metadata": {},
     "output_type": "display_data"
    },
    {
     "data": {
      "application/vnd.jupyter.widget-view+json": {
       "model_id": "",
       "version_major": 2,
       "version_minor": 0
      },
      "text/plain": [
       "VBox(children=(Label(value=' 0.00MB of 0.00MB uploaded (0.00MB deduped)\\r'), FloatProgress(value=1.0, max=1.0)…"
      ]
     },
     "metadata": {},
     "output_type": "display_data"
    },
    {
     "data": {
      "text/html": [
       "Find user logs for this run at: <code>E:\\!Incoming_projects\\StoryDB_eval\\wandb\\run-20210718_163755-2n42l4ub\\logs\\debug.log</code>"
      ],
      "text/plain": [
       "<IPython.core.display.HTML object>"
      ]
     },
     "metadata": {},
     "output_type": "display_data"
    },
    {
     "data": {
      "text/html": [
       "Find internal logs for this run at: <code>E:\\!Incoming_projects\\StoryDB_eval\\wandb\\run-20210718_163755-2n42l4ub\\logs\\debug-internal.log</code>"
      ],
      "text/plain": [
       "<IPython.core.display.HTML object>"
      ]
     },
     "metadata": {},
     "output_type": "display_data"
    },
    {
     "data": {
      "text/html": [
       "Synced 5 W&B file(s), 0 media file(s), 0 artifact file(s) and 0 other file(s)"
      ],
      "text/plain": [
       "<IPython.core.display.HTML object>"
      ]
     },
     "metadata": {},
     "output_type": "display_data"
    },
    {
     "data": {
      "text/html": [
       "\n",
       "                    <br/>Synced <strong style=\"color:#cdcd00\">devout-sponge-16</strong>: <a href=\"https://wandb.ai/altsoph/storydb_eval.task3/runs/2n42l4ub\" target=\"_blank\">https://wandb.ai/altsoph/storydb_eval.task3/runs/2n42l4ub</a><br/>\n",
       "                "
      ],
      "text/plain": [
       "<IPython.core.display.HTML object>"
      ]
     },
     "metadata": {},
     "output_type": "display_data"
    },
    {
     "data": {
      "text/html": [
       "...Successfully finished last run (ID:2n42l4ub). Initializing new run:<br/><br/>"
      ],
      "text/plain": [
       "<IPython.core.display.HTML object>"
      ]
     },
     "metadata": {},
     "output_type": "display_data"
    },
    {
     "data": {
      "text/html": [
       "\n",
       "                Tracking run with wandb version 0.11.0<br/>\n",
       "                Syncing run <strong style=\"color:#cdcd00\">woven-pond-17</strong> to <a href=\"https://wandb.ai\" target=\"_blank\">Weights & Biases</a> <a href=\"https://docs.wandb.com/integrations/jupyter.html\" target=\"_blank\">(Documentation)</a>.<br/>\n",
       "                Project page: <a href=\"https://wandb.ai/altsoph/storydb_eval.task3\" target=\"_blank\">https://wandb.ai/altsoph/storydb_eval.task3</a><br/>\n",
       "                Run page: <a href=\"https://wandb.ai/altsoph/storydb_eval.task3/runs/ipfz2vid\" target=\"_blank\">https://wandb.ai/altsoph/storydb_eval.task3/runs/ipfz2vid</a><br/>\n",
       "                Run data is saved locally in <code>E:\\!Incoming_projects\\StoryDB_eval\\wandb\\run-20210718_163856-ipfz2vid</code><br/><br/>\n",
       "            "
      ],
      "text/plain": [
       "<IPython.core.display.HTML object>"
      ]
     },
     "metadata": {},
     "output_type": "display_data"
    },
    {
     "name": "stderr",
     "output_type": "stream",
     "text": [
      "wandb: WARNING Calling run.save without any arguments is deprecated.Changes to attributes are automatically persisted.\n",
      "0it [00:00, ?it/s]Truncation was not explicitly activated but `max_length` is provided a specific value, please use `truncation=True` to explicitly truncate examples to max length. Defaulting to 'longest_first' truncation strategy. If you encode pairs of sequences (GLUE-style) with the tokenizer you can select this strategy more precisely by providing a specific strategy to `truncation`.\n",
      "5it [00:02,  1.92it/s]\n",
      "0it [00:00, ?it/s]"
     ]
    },
    {
     "name": "stdout",
     "output_type": "stream",
     "text": [
      "Acc = 0.0\n",
      "AUROC per tag\n"
     ]
    },
    {
     "name": "stderr",
     "output_type": "stream",
     "text": [
      "23it [00:10,  2.11it/s]\n",
      "23it [00:08,  2.61it/s]\n",
      "23it [00:10,  2.28it/s]\n",
      "23it [00:10,  2.21it/s]\n",
      "23it [00:10,  2.16it/s]\n",
      "23it [00:09,  2.54it/s]\n",
      "0it [00:00, ?it/s]"
     ]
    },
    {
     "name": "stdout",
     "output_type": "stream",
     "text": [
      "Epoch: 0, Loss:  0.7088102698326111\n"
     ]
    },
    {
     "name": "stderr",
     "output_type": "stream",
     "text": [
      "72it [00:26,  2.68it/s]\n",
      "5it [00:02,  2.25it/s]\n",
      "0it [00:00, ?it/s]"
     ]
    },
    {
     "name": "stdout",
     "output_type": "stream",
     "text": [
      "Acc = 0.03819444444444445\n",
      "AUROC per tag\n"
     ]
    },
    {
     "name": "stderr",
     "output_type": "stream",
     "text": [
      "23it [00:11,  2.08it/s]\n",
      "23it [00:08,  2.59it/s]\n",
      "23it [00:10,  2.26it/s]\n",
      "23it [00:10,  2.20it/s]\n",
      "23it [00:10,  2.14it/s]\n",
      "23it [00:09,  2.53it/s]\n",
      "0it [00:00, ?it/s]"
     ]
    },
    {
     "name": "stdout",
     "output_type": "stream",
     "text": [
      "Epoch: 1, Loss:  0.4675025939941406\n"
     ]
    },
    {
     "name": "stderr",
     "output_type": "stream",
     "text": [
      "72it [00:26,  2.71it/s]\n",
      "5it [00:02,  2.25it/s]\n",
      "0it [00:00, ?it/s]"
     ]
    },
    {
     "name": "stdout",
     "output_type": "stream",
     "text": [
      "Acc = 0.17708333333333334\n",
      "AUROC per tag\n"
     ]
    },
    {
     "name": "stderr",
     "output_type": "stream",
     "text": [
      "23it [00:11,  2.07it/s]\n",
      "23it [00:08,  2.58it/s]\n",
      "23it [00:10,  2.25it/s]\n",
      "23it [00:10,  2.18it/s]\n",
      "23it [00:10,  2.15it/s]\n",
      "23it [00:09,  2.53it/s]\n",
      "0it [00:00, ?it/s]"
     ]
    },
    {
     "name": "stdout",
     "output_type": "stream",
     "text": [
      "Epoch: 2, Loss:  0.3620389401912689\n"
     ]
    },
    {
     "name": "stderr",
     "output_type": "stream",
     "text": [
      "72it [00:26,  2.71it/s]\n",
      "5it [00:02,  2.24it/s]\n",
      "0it [00:00, ?it/s]"
     ]
    },
    {
     "name": "stdout",
     "output_type": "stream",
     "text": [
      "Acc = 0.1701388888888889\n",
      "AUROC per tag\n"
     ]
    },
    {
     "name": "stderr",
     "output_type": "stream",
     "text": [
      "23it [00:11,  2.05it/s]\n",
      "23it [00:08,  2.58it/s]\n",
      "23it [00:10,  2.26it/s]\n",
      "23it [00:10,  2.19it/s]\n",
      "23it [00:10,  2.15it/s]\n",
      "23it [00:09,  2.54it/s]\n"
     ]
    },
    {
     "name": "stdout",
     "output_type": "stream",
     "text": [
      "loading best model, it was ./model_mBERT_crossling_lang_en_ep2.bin\n"
     ]
    },
    {
     "data": {
      "text/html": [
       "<br/>Waiting for W&B process to finish, PID 13684<br/>Program ended successfully."
      ],
      "text/plain": [
       "<IPython.core.display.HTML object>"
      ]
     },
     "metadata": {},
     "output_type": "display_data"
    },
    {
     "data": {
      "application/vnd.jupyter.widget-view+json": {
       "model_id": "",
       "version_major": 2,
       "version_minor": 0
      },
      "text/plain": [
       "VBox(children=(Label(value=' 0.00MB of 0.00MB uploaded (0.00MB deduped)\\r'), FloatProgress(value=1.0, max=1.0)…"
      ]
     },
     "metadata": {},
     "output_type": "display_data"
    },
    {
     "data": {
      "text/html": [
       "Find user logs for this run at: <code>E:\\!Incoming_projects\\StoryDB_eval\\wandb\\run-20210718_163856-ipfz2vid\\logs\\debug.log</code>"
      ],
      "text/plain": [
       "<IPython.core.display.HTML object>"
      ]
     },
     "metadata": {},
     "output_type": "display_data"
    },
    {
     "data": {
      "text/html": [
       "Find internal logs for this run at: <code>E:\\!Incoming_projects\\StoryDB_eval\\wandb\\run-20210718_163856-ipfz2vid\\logs\\debug-internal.log</code>"
      ],
      "text/plain": [
       "<IPython.core.display.HTML object>"
      ]
     },
     "metadata": {},
     "output_type": "display_data"
    },
    {
     "data": {
      "text/html": [
       "<h3>Run summary:</h3><br/><style>\n",
       "    table.wandb td:nth-child(1) { padding: 0 10px; text-align: right }\n",
       "    </style><table class=\"wandb\">\n",
       "<tr><td>hamming_score</td><td>0.3448</td></tr><tr><td>hamming_loss</td><td>0.16528</td></tr><tr><td>acc</td><td>0.17014</td></tr><tr><td>epoch</td><td>3</td></tr><tr><td>model</td><td>mBERT</td></tr><tr><td>_runtime</td><td>354</td></tr><tr><td>_timestamp</td><td>1626615895</td></tr><tr><td>_step</td><td>67</td></tr><tr><td>tag_aucroc/drama</td><td>0.66172</td></tr><tr><td>tag_acc/drama</td><td>0.68403</td></tr><tr><td>tag_aucroc/comedy</td><td>0.72353</td></tr><tr><td>tag_acc/comedy</td><td>0.75</td></tr><tr><td>tag_aucroc/television</td><td>0.51923</td></tr><tr><td>tag_acc/television</td><td>0.91319</td></tr><tr><td>tag_aucroc/fiction</td><td>0.65932</td></tr><tr><td>tag_acc/fiction</td><td>0.80903</td></tr><tr><td>tag_aucroc/series</td><td>0.5</td></tr><tr><td>tag_acc/series</td><td>0.92708</td></tr><tr><td>tag_aucroc/action</td><td>0.63026</td></tr><tr><td>tag_acc/action</td><td>0.85417</td></tr><tr><td>tag_aucroc/thriller</td><td>0.55944</td></tr><tr><td>tag_acc/thriller</td><td>0.81944</td></tr><tr><td>tag_aucroc/black-and-white</td><td>0.52121</td></tr><tr><td>tag_acc/black-and-white</td><td>0.85417</td></tr><tr><td>tag_aucroc/science fiction</td><td>0.66064</td></tr><tr><td>tag_acc/science fiction</td><td>0.89931</td></tr><tr><td>tag_aucroc/horror</td><td>0.52569</td></tr><tr><td>tag_acc/horror</td><td>0.83681</td></tr><tr><td>lang_acc/en</td><td>0.20236</td></tr><tr><td>lang_acc/fr</td><td>0.19541</td></tr><tr><td>lang_acc/it</td><td>0.26147</td></tr><tr><td>lang_acc/ru</td><td>0.19402</td></tr><tr><td>lang_acc/de</td><td>0.20723</td></tr><tr><td>lang_acc/nl</td><td>0.24826</td></tr></table>"
      ],
      "text/plain": [
       "<IPython.core.display.HTML object>"
      ]
     },
     "metadata": {},
     "output_type": "display_data"
    },
    {
     "data": {
      "text/html": [
       "<h3>Run history:</h3><br/><style>\n",
       "    table.wandb td:nth-child(1) { padding: 0 10px; text-align: right }\n",
       "    </style><table class=\"wandb\">\n",
       "<tr><td>hamming_score</td><td>▂▁██</td></tr><tr><td>hamming_loss</td><td>█▁▁▁</td></tr><tr><td>acc</td><td>▁▃██</td></tr><tr><td>epoch</td><td>▁▁▁▁▁▁▁▁▁▁▃▃▃▃▃▃▃▃▃▃▆▆▆▆▆▆▆▆▆▆██████████</td></tr><tr><td>_runtime</td><td>▁▁▁▁▁▁▁▁▂▂▃▃▃▃▃▃▃▃▄▄▅▅▅▅▅▅▅▅▆▆▇▇▇▇▇▇▇▇██</td></tr><tr><td>_timestamp</td><td>▁▁▁▁▁▁▁▁▂▂▃▃▃▃▃▃▃▃▄▄▅▅▅▅▅▅▅▅▆▆▇▇▇▇▇▇▇▇██</td></tr><tr><td>_step</td><td>▁▁▁▂▂▂▂▂▂▃▃▃▃▃▄▄▄▄▄▄▅▅▅▅▅▅▆▆▆▆▆▇▇▇▇▇▇███</td></tr><tr><td>tag_aucroc/drama</td><td>▁▇██</td></tr><tr><td>tag_acc/drama</td><td>▁█▇█</td></tr><tr><td>tag_aucroc/comedy</td><td>▁▁▇█</td></tr><tr><td>tag_acc/comedy</td><td>▁▁▇█</td></tr><tr><td>tag_aucroc/television</td><td>▁▁▁█</td></tr><tr><td>tag_acc/television</td><td>▁▁▁█</td></tr><tr><td>tag_aucroc/fiction</td><td>▁▁█▆</td></tr><tr><td>tag_acc/fiction</td><td>▁▇██</td></tr><tr><td>tag_aucroc/series</td><td>▁▁▁▁</td></tr><tr><td>tag_acc/series</td><td>▁███</td></tr><tr><td>tag_aucroc/action</td><td>▁▁█▆</td></tr><tr><td>tag_acc/action</td><td>▁███</td></tr><tr><td>tag_aucroc/thriller</td><td>▁▁▁█</td></tr><tr><td>tag_acc/thriller</td><td>▁███</td></tr><tr><td>tag_aucroc/black-and-white</td><td>▅▁▁█</td></tr><tr><td>tag_acc/black-and-white</td><td>█▁▁█</td></tr><tr><td>tag_aucroc/science fiction</td><td>▁▁█▅</td></tr><tr><td>tag_acc/science fiction</td><td>▁███</td></tr><tr><td>tag_aucroc/horror</td><td>▁▄▄█</td></tr><tr><td>tag_acc/horror</td><td>▁███</td></tr><tr><td>lang_acc/en</td><td>▁▃▇█</td></tr><tr><td>lang_acc/fr</td><td>▁▃▇█</td></tr><tr><td>lang_acc/it</td><td>▁▃██</td></tr><tr><td>lang_acc/ru</td><td>▁▂██</td></tr><tr><td>lang_acc/de</td><td>▁▂▇█</td></tr><tr><td>lang_acc/nl</td><td>▁▃██</td></tr></table><br/>"
      ],
      "text/plain": [
       "<IPython.core.display.HTML object>"
      ]
     },
     "metadata": {},
     "output_type": "display_data"
    },
    {
     "data": {
      "text/html": [
       "Synced 5 W&B file(s), 0 media file(s), 0 artifact file(s) and 0 other file(s)"
      ],
      "text/plain": [
       "<IPython.core.display.HTML object>"
      ]
     },
     "metadata": {},
     "output_type": "display_data"
    },
    {
     "data": {
      "text/html": [
       "\n",
       "                    <br/>Synced <strong style=\"color:#cdcd00\">woven-pond-17</strong>: <a href=\"https://wandb.ai/altsoph/storydb_eval.task3/runs/ipfz2vid\" target=\"_blank\">https://wandb.ai/altsoph/storydb_eval.task3/runs/ipfz2vid</a><br/>\n",
       "                "
      ],
      "text/plain": [
       "<IPython.core.display.HTML object>"
      ]
     },
     "metadata": {},
     "output_type": "display_data"
    },
    {
     "data": {
      "text/html": [
       "\n",
       "                Tracking run with wandb version 0.11.0<br/>\n",
       "                Syncing run <strong style=\"color:#cdcd00\">ethereal-morning-18</strong> to <a href=\"https://wandb.ai\" target=\"_blank\">Weights & Biases</a> <a href=\"https://docs.wandb.com/integrations/jupyter.html\" target=\"_blank\">(Documentation)</a>.<br/>\n",
       "                Project page: <a href=\"https://wandb.ai/altsoph/storydb_eval.task3\" target=\"_blank\">https://wandb.ai/altsoph/storydb_eval.task3</a><br/>\n",
       "                Run page: <a href=\"https://wandb.ai/altsoph/storydb_eval.task3/runs/2hmfextl\" target=\"_blank\">https://wandb.ai/altsoph/storydb_eval.task3/runs/2hmfextl</a><br/>\n",
       "                Run data is saved locally in <code>E:\\!Incoming_projects\\StoryDB_eval\\wandb\\run-20210718_164511-2hmfextl</code><br/><br/>\n",
       "            "
      ],
      "text/plain": [
       "<IPython.core.display.HTML object>"
      ]
     },
     "metadata": {},
     "output_type": "display_data"
    },
    {
     "name": "stderr",
     "output_type": "stream",
     "text": [
      "wandb: WARNING Calling run.save without any arguments is deprecated.Changes to attributes are automatically persisted.\n",
      "5it [00:01,  2.81it/s]\n",
      "0it [00:00, ?it/s]"
     ]
    },
    {
     "name": "stdout",
     "output_type": "stream",
     "text": [
      "Acc = 0.0\n",
      "AUROC per tag\n"
     ]
    },
    {
     "name": "stderr",
     "output_type": "stream",
     "text": [
      "23it [00:11,  2.07it/s]\n",
      "23it [00:08,  2.59it/s]\n",
      "23it [00:10,  2.24it/s]\n",
      "23it [00:10,  2.19it/s]\n",
      "23it [00:10,  2.14it/s]\n",
      "23it [00:09,  2.53it/s]\n",
      "0it [00:00, ?it/s]"
     ]
    },
    {
     "name": "stdout",
     "output_type": "stream",
     "text": [
      "Epoch: 0, Loss:  0.6976543068885803\n"
     ]
    },
    {
     "name": "stderr",
     "output_type": "stream",
     "text": [
      "72it [00:24,  2.89it/s]\n",
      "5it [00:01,  2.80it/s]\n",
      "0it [00:00, ?it/s]"
     ]
    },
    {
     "name": "stdout",
     "output_type": "stream",
     "text": [
      "Acc = 0.0\n",
      "AUROC per tag\n"
     ]
    },
    {
     "name": "stderr",
     "output_type": "stream",
     "text": [
      "23it [00:11,  2.08it/s]\n",
      "23it [00:09,  2.54it/s]\n",
      "23it [00:10,  2.25it/s]\n",
      "23it [00:10,  2.19it/s]\n",
      "23it [00:10,  2.14it/s]\n",
      "23it [00:09,  2.53it/s]\n",
      "0it [00:00, ?it/s]"
     ]
    },
    {
     "name": "stdout",
     "output_type": "stream",
     "text": [
      "Epoch: 1, Loss:  0.45392975211143494\n"
     ]
    },
    {
     "name": "stderr",
     "output_type": "stream",
     "text": [
      "72it [00:24,  2.88it/s]\n",
      "5it [00:01,  2.77it/s]\n",
      "0it [00:00, ?it/s]"
     ]
    },
    {
     "name": "stdout",
     "output_type": "stream",
     "text": [
      "Acc = 0.2013888888888889\n",
      "AUROC per tag\n"
     ]
    },
    {
     "name": "stderr",
     "output_type": "stream",
     "text": [
      "23it [00:11,  2.07it/s]\n",
      "23it [00:08,  2.57it/s]\n",
      "23it [00:10,  2.25it/s]\n",
      "23it [00:10,  2.19it/s]\n",
      "23it [00:10,  2.14it/s]\n",
      "23it [00:09,  2.52it/s]\n",
      "0it [00:00, ?it/s]"
     ]
    },
    {
     "name": "stdout",
     "output_type": "stream",
     "text": [
      "Epoch: 2, Loss:  0.37781983613967896\n"
     ]
    },
    {
     "name": "stderr",
     "output_type": "stream",
     "text": [
      "72it [00:24,  2.89it/s]\n",
      "5it [00:01,  2.82it/s]\n",
      "0it [00:00, ?it/s]"
     ]
    },
    {
     "name": "stdout",
     "output_type": "stream",
     "text": [
      "Acc = 0.1597222222222222\n",
      "AUROC per tag\n"
     ]
    },
    {
     "name": "stderr",
     "output_type": "stream",
     "text": [
      "23it [00:11,  2.07it/s]\n",
      "23it [00:08,  2.56it/s]\n",
      "23it [00:10,  2.25it/s]\n",
      "23it [00:10,  2.20it/s]\n",
      "23it [00:10,  2.14it/s]\n",
      "23it [00:09,  2.52it/s]\n"
     ]
    },
    {
     "name": "stdout",
     "output_type": "stream",
     "text": [
      "loading best model, it was ./model_mBERT_crossling_lang_fr_ep2.bin\n"
     ]
    },
    {
     "data": {
      "text/html": [
       "<br/>Waiting for W&B process to finish, PID 11368<br/>Program ended successfully."
      ],
      "text/plain": [
       "<IPython.core.display.HTML object>"
      ]
     },
     "metadata": {},
     "output_type": "display_data"
    },
    {
     "data": {
      "application/vnd.jupyter.widget-view+json": {
       "model_id": "",
       "version_major": 2,
       "version_minor": 0
      },
      "text/plain": [
       "VBox(children=(Label(value=' 0.00MB of 0.00MB uploaded (0.00MB deduped)\\r'), FloatProgress(value=1.0, max=1.0)…"
      ]
     },
     "metadata": {},
     "output_type": "display_data"
    },
    {
     "data": {
      "text/html": [
       "Find user logs for this run at: <code>E:\\!Incoming_projects\\StoryDB_eval\\wandb\\run-20210718_164511-2hmfextl\\logs\\debug.log</code>"
      ],
      "text/plain": [
       "<IPython.core.display.HTML object>"
      ]
     },
     "metadata": {},
     "output_type": "display_data"
    },
    {
     "data": {
      "text/html": [
       "Find internal logs for this run at: <code>E:\\!Incoming_projects\\StoryDB_eval\\wandb\\run-20210718_164511-2hmfextl\\logs\\debug-internal.log</code>"
      ],
      "text/plain": [
       "<IPython.core.display.HTML object>"
      ]
     },
     "metadata": {},
     "output_type": "display_data"
    },
    {
     "data": {
      "text/html": [
       "<h3>Run summary:</h3><br/><style>\n",
       "    table.wandb td:nth-child(1) { padding: 0 10px; text-align: right }\n",
       "    </style><table class=\"wandb\">\n",
       "<tr><td>hamming_score</td><td>0.27824</td></tr><tr><td>hamming_loss</td><td>0.1566</td></tr><tr><td>acc</td><td>0.15972</td></tr><tr><td>epoch</td><td>3</td></tr><tr><td>model</td><td>mBERT</td></tr><tr><td>_runtime</td><td>346</td></tr><tr><td>_timestamp</td><td>1626616257</td></tr><tr><td>_step</td><td>67</td></tr><tr><td>tag_aucroc/drama</td><td>0.63167</td></tr><tr><td>tag_acc/drama</td><td>0.69792</td></tr><tr><td>tag_aucroc/comedy</td><td>0.6345</td></tr><tr><td>tag_acc/comedy</td><td>0.70833</td></tr><tr><td>tag_aucroc/television</td><td>0.5</td></tr><tr><td>tag_acc/television</td><td>0.89931</td></tr><tr><td>tag_aucroc/fiction</td><td>0.75799</td></tr><tr><td>tag_acc/fiction</td><td>0.84028</td></tr><tr><td>tag_aucroc/series</td><td>0.5</td></tr><tr><td>tag_acc/series</td><td>0.90625</td></tr><tr><td>tag_aucroc/action</td><td>0.5</td></tr><tr><td>tag_acc/action</td><td>0.90625</td></tr><tr><td>tag_aucroc/thriller</td><td>0.5</td></tr><tr><td>tag_acc/thriller</td><td>0.86458</td></tr><tr><td>tag_aucroc/black-and-white</td><td>0.5</td></tr><tr><td>tag_acc/black-and-white</td><td>0.82639</td></tr><tr><td>tag_aucroc/science fiction</td><td>0.81944</td></tr><tr><td>tag_acc/science fiction</td><td>0.91319</td></tr><tr><td>tag_aucroc/horror</td><td>0.54727</td></tr><tr><td>tag_acc/horror</td><td>0.87153</td></tr><tr><td>lang_acc/en</td><td>0.10292</td></tr><tr><td>lang_acc/fr</td><td>0.22323</td></tr><tr><td>lang_acc/it</td><td>0.20306</td></tr><tr><td>lang_acc/ru</td><td>0.12378</td></tr><tr><td>lang_acc/de</td><td>0.13143</td></tr><tr><td>lang_acc/nl</td><td>0.16759</td></tr></table>"
      ],
      "text/plain": [
       "<IPython.core.display.HTML object>"
      ]
     },
     "metadata": {},
     "output_type": "display_data"
    },
    {
     "data": {
      "text/html": [
       "<h3>Run history:</h3><br/><style>\n",
       "    table.wandb td:nth-child(1) { padding: 0 10px; text-align: right }\n",
       "    </style><table class=\"wandb\">\n",
       "<tr><td>hamming_score</td><td>▅▁█▇</td></tr><tr><td>hamming_loss</td><td>█▂▁▁</td></tr><tr><td>acc</td><td>▁▁█▇</td></tr><tr><td>epoch</td><td>▁▁▁▁▁▁▁▁▁▁▃▃▃▃▃▃▃▃▃▃▆▆▆▆▆▆▆▆▆▆██████████</td></tr><tr><td>_runtime</td><td>▁▁▁▁▁▁▁▁▂▂▃▃▃▃▃▃▃▃▄▄▅▅▅▅▅▅▅▅▆▆▇▇▇▇▇▇▇▇██</td></tr><tr><td>_timestamp</td><td>▁▁▁▁▁▁▁▁▂▂▃▃▃▃▃▃▃▃▄▄▅▅▅▅▅▅▅▅▆▆▇▇▇▇▇▇▇▇██</td></tr><tr><td>_step</td><td>▁▁▁▂▂▂▂▂▂▃▃▃▃▃▄▄▄▄▄▄▅▅▅▅▅▅▆▆▆▆▆▇▇▇▇▇▇███</td></tr><tr><td>tag_aucroc/drama</td><td>▂▁█▅</td></tr><tr><td>tag_acc/drama</td><td>▁▆█▇</td></tr><tr><td>tag_aucroc/comedy</td><td>▁▁██</td></tr><tr><td>tag_acc/comedy</td><td>▁▇██</td></tr><tr><td>tag_aucroc/television</td><td>█▁▁▁</td></tr><tr><td>tag_acc/television</td><td>▁███</td></tr><tr><td>tag_aucroc/fiction</td><td>▁▁▆█</td></tr><tr><td>tag_acc/fiction</td><td>▁▇██</td></tr><tr><td>tag_aucroc/series</td><td>█▁▁▁</td></tr><tr><td>tag_acc/series</td><td>▁███</td></tr><tr><td>tag_aucroc/action</td><td>▁███</td></tr><tr><td>tag_acc/action</td><td>▁███</td></tr><tr><td>tag_aucroc/thriller</td><td>▁███</td></tr><tr><td>tag_acc/thriller</td><td>▁███</td></tr><tr><td>tag_aucroc/black-and-white</td><td>█▁▁▁</td></tr><tr><td>tag_acc/black-and-white</td><td>▁███</td></tr><tr><td>tag_aucroc/science fiction</td><td>▁▁▆█</td></tr><tr><td>tag_acc/science fiction</td><td>▁███</td></tr><tr><td>tag_aucroc/horror</td><td>▁▅▅█</td></tr><tr><td>tag_acc/horror</td><td>▁███</td></tr><tr><td>lang_acc/en</td><td>▁▁█▆</td></tr><tr><td>lang_acc/fr</td><td>▁▁██</td></tr><tr><td>lang_acc/it</td><td>▁▁█▇</td></tr><tr><td>lang_acc/ru</td><td>▁▁█▆</td></tr><tr><td>lang_acc/de</td><td>▁▁█▆</td></tr><tr><td>lang_acc/nl</td><td>▁▁█▇</td></tr></table><br/>"
      ],
      "text/plain": [
       "<IPython.core.display.HTML object>"
      ]
     },
     "metadata": {},
     "output_type": "display_data"
    },
    {
     "data": {
      "text/html": [
       "Synced 5 W&B file(s), 0 media file(s), 0 artifact file(s) and 0 other file(s)"
      ],
      "text/plain": [
       "<IPython.core.display.HTML object>"
      ]
     },
     "metadata": {},
     "output_type": "display_data"
    },
    {
     "data": {
      "text/html": [
       "\n",
       "                    <br/>Synced <strong style=\"color:#cdcd00\">ethereal-morning-18</strong>: <a href=\"https://wandb.ai/altsoph/storydb_eval.task3/runs/2hmfextl\" target=\"_blank\">https://wandb.ai/altsoph/storydb_eval.task3/runs/2hmfextl</a><br/>\n",
       "                "
      ],
      "text/plain": [
       "<IPython.core.display.HTML object>"
      ]
     },
     "metadata": {},
     "output_type": "display_data"
    },
    {
     "data": {
      "text/html": [
       "\n",
       "                Tracking run with wandb version 0.11.0<br/>\n",
       "                Syncing run <strong style=\"color:#cdcd00\">swift-night-19</strong> to <a href=\"https://wandb.ai\" target=\"_blank\">Weights & Biases</a> <a href=\"https://docs.wandb.com/integrations/jupyter.html\" target=\"_blank\">(Documentation)</a>.<br/>\n",
       "                Project page: <a href=\"https://wandb.ai/altsoph/storydb_eval.task3\" target=\"_blank\">https://wandb.ai/altsoph/storydb_eval.task3</a><br/>\n",
       "                Run page: <a href=\"https://wandb.ai/altsoph/storydb_eval.task3/runs/19bjdv69\" target=\"_blank\">https://wandb.ai/altsoph/storydb_eval.task3/runs/19bjdv69</a><br/>\n",
       "                Run data is saved locally in <code>E:\\!Incoming_projects\\StoryDB_eval\\wandb\\run-20210718_165113-19bjdv69</code><br/><br/>\n",
       "            "
      ],
      "text/plain": [
       "<IPython.core.display.HTML object>"
      ]
     },
     "metadata": {},
     "output_type": "display_data"
    },
    {
     "name": "stderr",
     "output_type": "stream",
     "text": [
      "wandb: WARNING Calling run.save without any arguments is deprecated.Changes to attributes are automatically persisted.\n",
      "5it [00:02,  2.44it/s]\n",
      "0it [00:00, ?it/s]"
     ]
    },
    {
     "name": "stdout",
     "output_type": "stream",
     "text": [
      "Acc = 0.0\n",
      "AUROC per tag\n"
     ]
    },
    {
     "name": "stderr",
     "output_type": "stream",
     "text": [
      "23it [00:11,  2.03it/s]\n",
      "23it [00:09,  2.47it/s]\n",
      "23it [00:10,  2.23it/s]\n",
      "23it [00:10,  2.12it/s]\n",
      "23it [00:10,  2.12it/s]\n",
      "23it [00:09,  2.50it/s]\n",
      "0it [00:00, ?it/s]"
     ]
    },
    {
     "name": "stdout",
     "output_type": "stream",
     "text": [
      "Epoch: 0, Loss:  0.6986879706382751\n"
     ]
    },
    {
     "name": "stderr",
     "output_type": "stream",
     "text": [
      "72it [00:26,  2.74it/s]\n",
      "5it [00:02,  2.44it/s]\n",
      "0it [00:00, ?it/s]"
     ]
    },
    {
     "name": "stdout",
     "output_type": "stream",
     "text": [
      "Acc = 0.0\n",
      "AUROC per tag\n"
     ]
    },
    {
     "name": "stderr",
     "output_type": "stream",
     "text": [
      "23it [00:11,  2.07it/s]\n",
      "23it [00:08,  2.57it/s]\n",
      "23it [00:10,  2.25it/s]\n",
      "23it [00:10,  2.13it/s]\n",
      "23it [00:11,  2.08it/s]\n",
      "23it [00:09,  2.48it/s]\n",
      "0it [00:00, ?it/s]"
     ]
    },
    {
     "name": "stdout",
     "output_type": "stream",
     "text": [
      "Epoch: 1, Loss:  0.3132586181163788\n"
     ]
    },
    {
     "name": "stderr",
     "output_type": "stream",
     "text": [
      "72it [00:26,  2.76it/s]\n",
      "5it [00:02,  2.43it/s]\n",
      "0it [00:00, ?it/s]"
     ]
    },
    {
     "name": "stdout",
     "output_type": "stream",
     "text": [
      "Acc = 0.1736111111111111\n",
      "AUROC per tag\n"
     ]
    },
    {
     "name": "stderr",
     "output_type": "stream",
     "text": [
      "23it [00:11,  2.06it/s]\n",
      "23it [00:09,  2.54it/s]\n",
      "23it [00:10,  2.22it/s]\n",
      "23it [00:10,  2.16it/s]\n",
      "23it [00:10,  2.11it/s]\n",
      "23it [00:09,  2.47it/s]\n",
      "0it [00:00, ?it/s]"
     ]
    },
    {
     "name": "stdout",
     "output_type": "stream",
     "text": [
      "Epoch: 2, Loss:  0.30383023619651794\n"
     ]
    },
    {
     "name": "stderr",
     "output_type": "stream",
     "text": [
      "72it [00:26,  2.73it/s]\n",
      "5it [00:02,  2.37it/s]\n",
      "0it [00:00, ?it/s]"
     ]
    },
    {
     "name": "stdout",
     "output_type": "stream",
     "text": [
      "Acc = 0.2361111111111111\n",
      "AUROC per tag\n"
     ]
    },
    {
     "name": "stderr",
     "output_type": "stream",
     "text": [
      "23it [00:11,  2.04it/s]\n",
      "23it [00:09,  2.55it/s]\n",
      "23it [00:10,  2.23it/s]\n",
      "23it [00:10,  2.17it/s]\n",
      "23it [00:10,  2.10it/s]\n",
      "23it [00:09,  2.50it/s]\n",
      "0it [00:00, ?it/s]"
     ]
    },
    {
     "name": "stdout",
     "output_type": "stream",
     "text": [
      "Epoch: 3, Loss:  0.32052499055862427\n"
     ]
    },
    {
     "name": "stderr",
     "output_type": "stream",
     "text": [
      "72it [00:26,  2.75it/s]\n",
      "5it [00:02,  2.43it/s]\n",
      "0it [00:00, ?it/s]"
     ]
    },
    {
     "name": "stdout",
     "output_type": "stream",
     "text": [
      "Acc = 0.28125\n",
      "AUROC per tag\n"
     ]
    },
    {
     "name": "stderr",
     "output_type": "stream",
     "text": [
      "23it [00:11,  2.06it/s]\n",
      "23it [00:09,  2.53it/s]\n",
      "23it [00:10,  2.19it/s]\n",
      "23it [00:10,  2.14it/s]\n",
      "23it [00:10,  2.10it/s]\n",
      "23it [00:09,  2.49it/s]\n",
      "0it [00:00, ?it/s]"
     ]
    },
    {
     "name": "stdout",
     "output_type": "stream",
     "text": [
      "Epoch: 4, Loss:  0.2904181480407715\n"
     ]
    },
    {
     "name": "stderr",
     "output_type": "stream",
     "text": [
      "72it [00:26,  2.75it/s]\n",
      "5it [00:02,  2.43it/s]\n",
      "0it [00:00, ?it/s]"
     ]
    },
    {
     "name": "stdout",
     "output_type": "stream",
     "text": [
      "Acc = 0.2951388888888889\n",
      "AUROC per tag\n"
     ]
    },
    {
     "name": "stderr",
     "output_type": "stream",
     "text": [
      "23it [00:11,  2.04it/s]\n",
      "23it [00:09,  2.55it/s]\n",
      "23it [00:10,  2.19it/s]\n",
      "23it [00:10,  2.16it/s]\n",
      "23it [00:10,  2.11it/s]\n",
      "23it [00:09,  2.48it/s]\n",
      "0it [00:00, ?it/s]"
     ]
    },
    {
     "name": "stdout",
     "output_type": "stream",
     "text": [
      "Epoch: 5, Loss:  0.19850201904773712\n"
     ]
    },
    {
     "name": "stderr",
     "output_type": "stream",
     "text": [
      "72it [00:26,  2.71it/s]\n",
      "5it [00:02,  2.42it/s]\n",
      "0it [00:00, ?it/s]"
     ]
    },
    {
     "name": "stdout",
     "output_type": "stream",
     "text": [
      "Acc = 0.3020833333333333\n",
      "AUROC per tag\n"
     ]
    },
    {
     "name": "stderr",
     "output_type": "stream",
     "text": [
      "23it [00:11,  2.04it/s]\n",
      "23it [00:09,  2.52it/s]\n",
      "23it [00:10,  2.22it/s]\n",
      "23it [00:10,  2.15it/s]\n",
      "23it [00:11,  2.09it/s]\n",
      "23it [00:09,  2.51it/s]\n",
      "0it [00:00, ?it/s]"
     ]
    },
    {
     "name": "stdout",
     "output_type": "stream",
     "text": [
      "Epoch: 6, Loss:  0.2151041477918625\n"
     ]
    },
    {
     "name": "stderr",
     "output_type": "stream",
     "text": [
      "72it [00:26,  2.76it/s]\n",
      "5it [00:02,  2.39it/s]\n",
      "0it [00:00, ?it/s]"
     ]
    },
    {
     "name": "stdout",
     "output_type": "stream",
     "text": [
      "Acc = 0.2916666666666667\n",
      "AUROC per tag\n"
     ]
    },
    {
     "name": "stderr",
     "output_type": "stream",
     "text": [
      "23it [00:11,  1.99it/s]\n",
      "23it [00:08,  2.56it/s]\n",
      "23it [00:10,  2.22it/s]\n",
      "23it [00:10,  2.13it/s]\n",
      "23it [00:10,  2.10it/s]\n",
      "23it [00:09,  2.49it/s]\n"
     ]
    },
    {
     "name": "stdout",
     "output_type": "stream",
     "text": [
      "loading best model, it was ./model_mBERT_crossling_lang_it_ep6.bin\n"
     ]
    },
    {
     "data": {
      "text/html": [
       "<br/>Waiting for W&B process to finish, PID 14520<br/>Program ended successfully."
      ],
      "text/plain": [
       "<IPython.core.display.HTML object>"
      ]
     },
     "metadata": {},
     "output_type": "display_data"
    },
    {
     "data": {
      "application/vnd.jupyter.widget-view+json": {
       "model_id": "",
       "version_major": 2,
       "version_minor": 0
      },
      "text/plain": [
       "VBox(children=(Label(value=' 0.00MB of 0.00MB uploaded (0.00MB deduped)\\r'), FloatProgress(value=1.0, max=1.0)…"
      ]
     },
     "metadata": {},
     "output_type": "display_data"
    },
    {
     "data": {
      "text/html": [
       "Find user logs for this run at: <code>E:\\!Incoming_projects\\StoryDB_eval\\wandb\\run-20210718_165113-19bjdv69\\logs\\debug.log</code>"
      ],
      "text/plain": [
       "<IPython.core.display.HTML object>"
      ]
     },
     "metadata": {},
     "output_type": "display_data"
    },
    {
     "data": {
      "text/html": [
       "Find internal logs for this run at: <code>E:\\!Incoming_projects\\StoryDB_eval\\wandb\\run-20210718_165113-19bjdv69\\logs\\debug-internal.log</code>"
      ],
      "text/plain": [
       "<IPython.core.display.HTML object>"
      ]
     },
     "metadata": {},
     "output_type": "display_data"
    },
    {
     "data": {
      "text/html": [
       "<h3>Run summary:</h3><br/><style>\n",
       "    table.wandb td:nth-child(1) { padding: 0 10px; text-align: right }\n",
       "    </style><table class=\"wandb\">\n",
       "<tr><td>hamming_score</td><td>0.43414</td></tr><tr><td>hamming_loss</td><td>0.14583</td></tr><tr><td>acc</td><td>0.29167</td></tr><tr><td>epoch</td><td>7</td></tr><tr><td>model</td><td>mBERT</td></tr><tr><td>_runtime</td><td>735</td></tr><tr><td>_timestamp</td><td>1626617008</td></tr><tr><td>_step</td><td>127</td></tr><tr><td>tag_aucroc/drama</td><td>0.7057</td></tr><tr><td>tag_acc/drama</td><td>0.72917</td></tr><tr><td>tag_aucroc/comedy</td><td>0.65923</td></tr><tr><td>tag_acc/comedy</td><td>0.72569</td></tr><tr><td>tag_aucroc/television</td><td>0.52632</td></tr><tr><td>tag_acc/television</td><td>0.9375</td></tr><tr><td>tag_aucroc/fiction</td><td>0.73811</td></tr><tr><td>tag_acc/fiction</td><td>0.875</td></tr><tr><td>tag_aucroc/series</td><td>0.49818</td></tr><tr><td>tag_acc/series</td><td>0.94792</td></tr><tr><td>tag_aucroc/action</td><td>0.7169</td></tr><tr><td>tag_acc/action</td><td>0.83681</td></tr><tr><td>tag_aucroc/thriller</td><td>0.60845</td></tr><tr><td>tag_acc/thriller</td><td>0.75347</td></tr><tr><td>tag_aucroc/science fiction</td><td>0.77538</td></tr><tr><td>tag_acc/science fiction</td><td>0.90972</td></tr><tr><td>tag_aucroc/horror</td><td>0.57171</td></tr><tr><td>tag_acc/horror</td><td>0.82639</td></tr><tr><td>lang_acc/en</td><td>0.20862</td></tr><tr><td>lang_acc/fr</td><td>0.25313</td></tr><tr><td>lang_acc/it</td><td>0.56537</td></tr><tr><td>lang_acc/ru</td><td>0.24061</td></tr><tr><td>lang_acc/de</td><td>0.26495</td></tr><tr><td>lang_acc/nl</td><td>0.32615</td></tr></table>"
      ],
      "text/plain": [
       "<IPython.core.display.HTML object>"
      ]
     },
     "metadata": {},
     "output_type": "display_data"
    },
    {
     "data": {
      "text/html": [
       "<h3>Run history:</h3><br/><style>\n",
       "    table.wandb td:nth-child(1) { padding: 0 10px; text-align: right }\n",
       "    </style><table class=\"wandb\">\n",
       "<tr><td>hamming_score</td><td>▃▁▅▆▇▇██</td></tr><tr><td>hamming_loss</td><td>█▂▁▁▁▁▁▁</td></tr><tr><td>acc</td><td>▁▁▅▆████</td></tr><tr><td>epoch</td><td>▁▁▁▁▁▂▂▂▂▂▃▃▃▃▃▄▄▄▄▄▅▅▅▅▅▆▆▆▆▆▇▇▇▇▇█████</td></tr><tr><td>_runtime</td><td>▁▁▁▁▁▂▂▂▂▂▃▃▃▃▃▄▄▄▄▄▅▅▅▅▅▆▆▆▆▆▆▆▆▇▇▇▇▇██</td></tr><tr><td>_timestamp</td><td>▁▁▁▁▁▂▂▂▂▂▃▃▃▃▃▄▄▄▄▄▅▅▅▅▅▆▆▆▆▆▆▆▆▇▇▇▇▇██</td></tr><tr><td>_step</td><td>▁▁▁▁▂▂▂▂▂▃▃▃▃▃▃▄▄▄▄▄▅▅▅▅▅▅▆▆▆▆▆▇▇▇▇▇▇███</td></tr><tr><td>tag_aucroc/drama</td><td>▁▁▆▆▇██▇</td></tr><tr><td>tag_acc/drama</td><td>▁▂▄▅▃█▆▇</td></tr><tr><td>tag_aucroc/comedy</td><td>▁▁▁▅▆▇██</td></tr><tr><td>tag_acc/comedy</td><td>▁▁▁▅▇▅██</td></tr><tr><td>tag_aucroc/television</td><td>▁▆▆▆▆▆▆█</td></tr><tr><td>tag_acc/television</td><td>▁███████</td></tr><tr><td>tag_aucroc/fiction</td><td>▁▁▆█▇▇█▇</td></tr><tr><td>tag_acc/fiction</td><td>▁▇██████</td></tr><tr><td>tag_aucroc/series</td><td>▁█████▁▁</td></tr><tr><td>tag_acc/series</td><td>▁█████▁▁</td></tr><tr><td>tag_aucroc/action</td><td>▁▁▃▆▁▆▆█</td></tr><tr><td>tag_acc/action</td><td>▁██████▇</td></tr><tr><td>tag_aucroc/thriller</td><td>▁▁▁▂▁▅▅█</td></tr><tr><td>tag_acc/thriller</td><td>▂▆▆▇▆▇█▁</td></tr><tr><td>tag_aucroc/science fiction</td><td>▁▂▆█▇███</td></tr><tr><td>tag_acc/science fiction</td><td>▁▄▇▅██▆▆</td></tr><tr><td>tag_aucroc/horror</td><td>▁▁▁▁▁▆█▆</td></tr><tr><td>tag_acc/horror</td><td>▁███████</td></tr><tr><td>lang_acc/en</td><td>▁▁▃▆▇▇██</td></tr><tr><td>lang_acc/fr</td><td>▁▁▄▇▇███</td></tr><tr><td>lang_acc/it</td><td>▁▁▄▅▅▇▇█</td></tr><tr><td>lang_acc/ru</td><td>▁▁▃▆████</td></tr><tr><td>lang_acc/de</td><td>▁▁▃▆▇███</td></tr><tr><td>lang_acc/nl</td><td>▁▁▃▆█▇█▇</td></tr></table><br/>"
      ],
      "text/plain": [
       "<IPython.core.display.HTML object>"
      ]
     },
     "metadata": {},
     "output_type": "display_data"
    },
    {
     "data": {
      "text/html": [
       "Synced 5 W&B file(s), 0 media file(s), 0 artifact file(s) and 0 other file(s)"
      ],
      "text/plain": [
       "<IPython.core.display.HTML object>"
      ]
     },
     "metadata": {},
     "output_type": "display_data"
    },
    {
     "data": {
      "text/html": [
       "\n",
       "                    <br/>Synced <strong style=\"color:#cdcd00\">swift-night-19</strong>: <a href=\"https://wandb.ai/altsoph/storydb_eval.task3/runs/19bjdv69\" target=\"_blank\">https://wandb.ai/altsoph/storydb_eval.task3/runs/19bjdv69</a><br/>\n",
       "                "
      ],
      "text/plain": [
       "<IPython.core.display.HTML object>"
      ]
     },
     "metadata": {},
     "output_type": "display_data"
    },
    {
     "data": {
      "text/html": [
       "\n",
       "                Tracking run with wandb version 0.11.0<br/>\n",
       "                Syncing run <strong style=\"color:#cdcd00\">hopeful-thunder-20</strong> to <a href=\"https://wandb.ai\" target=\"_blank\">Weights & Biases</a> <a href=\"https://docs.wandb.com/integrations/jupyter.html\" target=\"_blank\">(Documentation)</a>.<br/>\n",
       "                Project page: <a href=\"https://wandb.ai/altsoph/storydb_eval.task3\" target=\"_blank\">https://wandb.ai/altsoph/storydb_eval.task3</a><br/>\n",
       "                Run page: <a href=\"https://wandb.ai/altsoph/storydb_eval.task3/runs/6vijskii\" target=\"_blank\">https://wandb.ai/altsoph/storydb_eval.task3/runs/6vijskii</a><br/>\n",
       "                Run data is saved locally in <code>E:\\!Incoming_projects\\StoryDB_eval\\wandb\\run-20210718_170344-6vijskii</code><br/><br/>\n",
       "            "
      ],
      "text/plain": [
       "<IPython.core.display.HTML object>"
      ]
     },
     "metadata": {},
     "output_type": "display_data"
    },
    {
     "name": "stderr",
     "output_type": "stream",
     "text": [
      "wandb: WARNING Calling run.save without any arguments is deprecated.Changes to attributes are automatically persisted.\n",
      "5it [00:02,  2.31it/s]\n",
      "0it [00:00, ?it/s]"
     ]
    },
    {
     "name": "stdout",
     "output_type": "stream",
     "text": [
      "Acc = 0.0\n",
      "AUROC per tag\n"
     ]
    },
    {
     "name": "stderr",
     "output_type": "stream",
     "text": [
      "23it [00:11,  2.06it/s]\n",
      "23it [00:08,  2.56it/s]\n",
      "23it [00:10,  2.24it/s]\n",
      "23it [00:10,  2.15it/s]\n",
      "23it [00:10,  2.11it/s]\n",
      "23it [00:09,  2.48it/s]\n",
      "0it [00:00, ?it/s]"
     ]
    },
    {
     "name": "stdout",
     "output_type": "stream",
     "text": [
      "Epoch: 0, Loss:  0.69796222448349\n"
     ]
    },
    {
     "name": "stderr",
     "output_type": "stream",
     "text": [
      "72it [00:26,  2.73it/s]\n",
      "5it [00:02,  2.36it/s]\n",
      "0it [00:00, ?it/s]"
     ]
    },
    {
     "name": "stdout",
     "output_type": "stream",
     "text": [
      "Acc = 0.0763888888888889\n",
      "AUROC per tag\n"
     ]
    },
    {
     "name": "stderr",
     "output_type": "stream",
     "text": [
      "23it [00:11,  2.01it/s]\n",
      "23it [00:09,  2.50it/s]\n",
      "23it [00:10,  2.17it/s]\n",
      "23it [00:11,  2.02it/s]\n",
      "23it [00:11,  2.05it/s]\n",
      "23it [00:09,  2.41it/s]\n",
      "0it [00:00, ?it/s]"
     ]
    },
    {
     "name": "stdout",
     "output_type": "stream",
     "text": [
      "Epoch: 1, Loss:  0.35262489318847656\n"
     ]
    },
    {
     "name": "stderr",
     "output_type": "stream",
     "text": [
      "72it [00:26,  2.69it/s]\n",
      "5it [00:02,  2.25it/s]\n",
      "0it [00:00, ?it/s]"
     ]
    },
    {
     "name": "stdout",
     "output_type": "stream",
     "text": [
      "Acc = 0.2013888888888889\n",
      "AUROC per tag\n"
     ]
    },
    {
     "name": "stderr",
     "output_type": "stream",
     "text": [
      "23it [00:11,  2.02it/s]\n",
      "23it [00:09,  2.54it/s]\n",
      "23it [00:10,  2.22it/s]\n",
      "23it [00:10,  2.17it/s]\n",
      "23it [00:10,  2.10it/s]\n",
      "23it [00:09,  2.48it/s]\n",
      "0it [00:00, ?it/s]"
     ]
    },
    {
     "name": "stdout",
     "output_type": "stream",
     "text": [
      "Epoch: 2, Loss:  0.4378708302974701\n"
     ]
    },
    {
     "name": "stderr",
     "output_type": "stream",
     "text": [
      "72it [00:26,  2.73it/s]\n",
      "5it [00:02,  2.38it/s]\n",
      "0it [00:00, ?it/s]"
     ]
    },
    {
     "name": "stdout",
     "output_type": "stream",
     "text": [
      "Acc = 0.13194444444444445\n",
      "AUROC per tag\n"
     ]
    },
    {
     "name": "stderr",
     "output_type": "stream",
     "text": [
      "23it [00:11,  2.04it/s]\n",
      "23it [00:09,  2.55it/s]\n",
      "23it [00:10,  2.22it/s]\n",
      "23it [00:10,  2.14it/s]\n",
      "23it [00:10,  2.11it/s]\n",
      "23it [00:09,  2.49it/s]\n"
     ]
    },
    {
     "name": "stdout",
     "output_type": "stream",
     "text": [
      "loading best model, it was ./model_mBERT_crossling_lang_ru_ep2.bin\n"
     ]
    },
    {
     "data": {
      "text/html": [
       "<br/>Waiting for W&B process to finish, PID 19620<br/>Program ended successfully."
      ],
      "text/plain": [
       "<IPython.core.display.HTML object>"
      ]
     },
     "metadata": {},
     "output_type": "display_data"
    },
    {
     "data": {
      "application/vnd.jupyter.widget-view+json": {
       "model_id": "",
       "version_major": 2,
       "version_minor": 0
      },
      "text/plain": [
       "VBox(children=(Label(value=' 0.00MB of 0.00MB uploaded (0.00MB deduped)\\r'), FloatProgress(value=1.0, max=1.0)…"
      ]
     },
     "metadata": {},
     "output_type": "display_data"
    },
    {
     "data": {
      "text/html": [
       "Find user logs for this run at: <code>E:\\!Incoming_projects\\StoryDB_eval\\wandb\\run-20210718_170344-6vijskii\\logs\\debug.log</code>"
      ],
      "text/plain": [
       "<IPython.core.display.HTML object>"
      ]
     },
     "metadata": {},
     "output_type": "display_data"
    },
    {
     "data": {
      "text/html": [
       "Find internal logs for this run at: <code>E:\\!Incoming_projects\\StoryDB_eval\\wandb\\run-20210718_170344-6vijskii\\logs\\debug-internal.log</code>"
      ],
      "text/plain": [
       "<IPython.core.display.HTML object>"
      ]
     },
     "metadata": {},
     "output_type": "display_data"
    },
    {
     "data": {
      "text/html": [
       "<h3>Run summary:</h3><br/><style>\n",
       "    table.wandb td:nth-child(1) { padding: 0 10px; text-align: right }\n",
       "    </style><table class=\"wandb\">\n",
       "<tr><td>hamming_score</td><td>0.18501</td></tr><tr><td>hamming_loss</td><td>0.1559</td></tr><tr><td>acc</td><td>0.13194</td></tr><tr><td>epoch</td><td>3</td></tr><tr><td>model</td><td>mBERT</td></tr><tr><td>_runtime</td><td>358</td></tr><tr><td>_timestamp</td><td>1626617382</td></tr><tr><td>_step</td><td>67</td></tr><tr><td>tag_aucroc/drama</td><td>0.5684</td></tr><tr><td>tag_acc/drama</td><td>0.59375</td></tr><tr><td>tag_aucroc/comedy</td><td>0.55504</td></tr><tr><td>tag_acc/comedy</td><td>0.66667</td></tr><tr><td>tag_aucroc/television</td><td>0.5</td></tr><tr><td>tag_acc/television</td><td>0.91319</td></tr><tr><td>tag_aucroc/fiction</td><td>0.73413</td></tr><tr><td>tag_acc/fiction</td><td>0.90972</td></tr><tr><td>tag_aucroc/series</td><td>0.5</td></tr><tr><td>tag_acc/series</td><td>0.93056</td></tr><tr><td>tag_aucroc/action</td><td>0.49802</td></tr><tr><td>tag_acc/action</td><td>0.87153</td></tr><tr><td>tag_aucroc/thriller</td><td>0.5</td></tr><tr><td>tag_acc/thriller</td><td>0.81597</td></tr><tr><td>tag_aucroc/black-and-white</td><td>0.5</td></tr><tr><td>tag_acc/black-and-white</td><td>0.91667</td></tr><tr><td>tag_aucroc/science fiction</td><td>0.69066</td></tr><tr><td>tag_acc/science fiction</td><td>0.93056</td></tr><tr><td>tag_aucroc/horror</td><td>0.5</td></tr><tr><td>tag_acc/horror</td><td>0.89236</td></tr><tr><td>lang_acc/en</td><td>0.04937</td></tr><tr><td>lang_acc/fr</td><td>0.08901</td></tr><tr><td>lang_acc/it</td><td>0.10709</td></tr><tr><td>lang_acc/ru</td><td>0.14743</td></tr><tr><td>lang_acc/de</td><td>0.08832</td></tr><tr><td>lang_acc/nl</td><td>0.10987</td></tr></table>"
      ],
      "text/plain": [
       "<IPython.core.display.HTML object>"
      ]
     },
     "metadata": {},
     "output_type": "display_data"
    },
    {
     "data": {
      "text/html": [
       "<h3>Run history:</h3><br/><style>\n",
       "    table.wandb td:nth-child(1) { padding: 0 10px; text-align: right }\n",
       "    </style><table class=\"wandb\">\n",
       "<tr><td>hamming_score</td><td>▂▁█▄</td></tr><tr><td>hamming_loss</td><td>█▁▁▁</td></tr><tr><td>acc</td><td>▁▄█▆</td></tr><tr><td>epoch</td><td>▁▁▁▁▁▁▁▁▁▁▃▃▃▃▃▃▃▃▃▃▆▆▆▆▆▆▆▆▆▆██████████</td></tr><tr><td>_runtime</td><td>▁▁▁▁▁▁▁▁▂▂▃▃▃▃▃▃▃▃▄▄▅▅▅▅▅▅▅▅▆▆▇▇▇▇▇▇▇▇██</td></tr><tr><td>_timestamp</td><td>▁▁▁▁▁▁▁▁▂▂▃▃▃▃▃▃▃▃▄▄▅▅▅▅▅▅▅▅▆▆▇▇▇▇▇▇▇▇██</td></tr><tr><td>_step</td><td>▁▁▁▂▂▂▂▂▂▃▃▃▃▃▄▄▄▄▄▄▅▅▅▅▅▅▆▆▆▆▆▇▇▇▇▇▇███</td></tr><tr><td>tag_aucroc/drama</td><td>▁▅█▆</td></tr><tr><td>tag_acc/drama</td><td>▁▇▇█</td></tr><tr><td>tag_aucroc/comedy</td><td>▁▁▁█</td></tr><tr><td>tag_acc/comedy</td><td>▁▂▂█</td></tr><tr><td>tag_aucroc/television</td><td>▁▁▁▁</td></tr><tr><td>tag_acc/television</td><td>▁███</td></tr><tr><td>tag_aucroc/fiction</td><td>▁▁▂█</td></tr><tr><td>tag_acc/fiction</td><td>▁███</td></tr><tr><td>tag_aucroc/series</td><td>█▁▁▁</td></tr><tr><td>tag_acc/series</td><td>▁███</td></tr><tr><td>tag_aucroc/action</td><td>███▁</td></tr><tr><td>tag_acc/action</td><td>▁███</td></tr><tr><td>tag_aucroc/thriller</td><td>▁▁▁▁</td></tr><tr><td>tag_acc/thriller</td><td>▁▁▁▁</td></tr><tr><td>tag_aucroc/black-and-white</td><td>▁███</td></tr><tr><td>tag_acc/black-and-white</td><td>▁███</td></tr><tr><td>tag_aucroc/science fiction</td><td>▁▁▁█</td></tr><tr><td>tag_acc/science fiction</td><td>▁▂▂█</td></tr><tr><td>tag_aucroc/horror</td><td>█▁▁▁</td></tr><tr><td>tag_acc/horror</td><td>▁███</td></tr><tr><td>lang_acc/en</td><td>▁▅█▄</td></tr><tr><td>lang_acc/fr</td><td>▁▅█▅</td></tr><tr><td>lang_acc/it</td><td>▁▃█▄</td></tr><tr><td>lang_acc/ru</td><td>▁▅█▆</td></tr><tr><td>lang_acc/de</td><td>▁▅█▅</td></tr><tr><td>lang_acc/nl</td><td>▁▄█▄</td></tr></table><br/>"
      ],
      "text/plain": [
       "<IPython.core.display.HTML object>"
      ]
     },
     "metadata": {},
     "output_type": "display_data"
    },
    {
     "data": {
      "text/html": [
       "Synced 5 W&B file(s), 0 media file(s), 0 artifact file(s) and 0 other file(s)"
      ],
      "text/plain": [
       "<IPython.core.display.HTML object>"
      ]
     },
     "metadata": {},
     "output_type": "display_data"
    },
    {
     "data": {
      "text/html": [
       "\n",
       "                    <br/>Synced <strong style=\"color:#cdcd00\">hopeful-thunder-20</strong>: <a href=\"https://wandb.ai/altsoph/storydb_eval.task3/runs/6vijskii\" target=\"_blank\">https://wandb.ai/altsoph/storydb_eval.task3/runs/6vijskii</a><br/>\n",
       "                "
      ],
      "text/plain": [
       "<IPython.core.display.HTML object>"
      ]
     },
     "metadata": {},
     "output_type": "display_data"
    },
    {
     "data": {
      "text/html": [
       "\n",
       "                Tracking run with wandb version 0.11.0<br/>\n",
       "                Syncing run <strong style=\"color:#cdcd00\">polar-smoke-21</strong> to <a href=\"https://wandb.ai\" target=\"_blank\">Weights & Biases</a> <a href=\"https://docs.wandb.com/integrations/jupyter.html\" target=\"_blank\">(Documentation)</a>.<br/>\n",
       "                Project page: <a href=\"https://wandb.ai/altsoph/storydb_eval.task3\" target=\"_blank\">https://wandb.ai/altsoph/storydb_eval.task3</a><br/>\n",
       "                Run page: <a href=\"https://wandb.ai/altsoph/storydb_eval.task3/runs/hyxper6d\" target=\"_blank\">https://wandb.ai/altsoph/storydb_eval.task3/runs/hyxper6d</a><br/>\n",
       "                Run data is saved locally in <code>E:\\!Incoming_projects\\StoryDB_eval\\wandb\\run-20210718_170958-hyxper6d</code><br/><br/>\n",
       "            "
      ],
      "text/plain": [
       "<IPython.core.display.HTML object>"
      ]
     },
     "metadata": {},
     "output_type": "display_data"
    },
    {
     "name": "stderr",
     "output_type": "stream",
     "text": [
      "wandb: WARNING Calling run.save without any arguments is deprecated.Changes to attributes are automatically persisted.\n",
      "5it [00:02,  2.28it/s]\n",
      "0it [00:00, ?it/s]"
     ]
    },
    {
     "name": "stdout",
     "output_type": "stream",
     "text": [
      "Acc = 0.0\n",
      "AUROC per tag\n"
     ]
    },
    {
     "name": "stderr",
     "output_type": "stream",
     "text": [
      "23it [00:11,  2.07it/s]\n",
      "23it [00:08,  2.56it/s]\n",
      "23it [00:10,  2.21it/s]\n",
      "23it [00:10,  2.17it/s]\n",
      "23it [00:10,  2.11it/s]\n",
      "23it [00:09,  2.47it/s]\n",
      "0it [00:00, ?it/s]"
     ]
    },
    {
     "name": "stdout",
     "output_type": "stream",
     "text": [
      "Epoch: 0, Loss:  0.6925367712974548\n"
     ]
    },
    {
     "name": "stderr",
     "output_type": "stream",
     "text": [
      "72it [00:26,  2.69it/s]\n",
      "5it [00:02,  2.29it/s]\n",
      "0it [00:00, ?it/s]"
     ]
    },
    {
     "name": "stdout",
     "output_type": "stream",
     "text": [
      "Acc = 0.0\n",
      "AUROC per tag\n"
     ]
    },
    {
     "name": "stderr",
     "output_type": "stream",
     "text": [
      "23it [00:11,  2.03it/s]\n",
      "23it [00:08,  2.56it/s]\n",
      "23it [00:10,  2.22it/s]\n",
      "23it [00:10,  2.15it/s]\n",
      "23it [00:10,  2.11it/s]\n",
      "23it [00:09,  2.49it/s]\n",
      "0it [00:00, ?it/s]"
     ]
    },
    {
     "name": "stdout",
     "output_type": "stream",
     "text": [
      "Epoch: 1, Loss:  0.44113054871559143\n"
     ]
    },
    {
     "name": "stderr",
     "output_type": "stream",
     "text": [
      "72it [00:26,  2.70it/s]\n",
      "5it [00:02,  2.31it/s]\n",
      "0it [00:00, ?it/s]"
     ]
    },
    {
     "name": "stdout",
     "output_type": "stream",
     "text": [
      "Acc = 0.0798611111111111\n",
      "AUROC per tag\n"
     ]
    },
    {
     "name": "stderr",
     "output_type": "stream",
     "text": [
      "23it [00:11,  2.06it/s]\n",
      "23it [00:09,  2.55it/s]\n",
      "23it [00:10,  2.24it/s]\n",
      "23it [00:10,  2.16it/s]\n",
      "23it [00:10,  2.11it/s]\n",
      "23it [00:09,  2.51it/s]\n",
      "0it [00:00, ?it/s]"
     ]
    },
    {
     "name": "stdout",
     "output_type": "stream",
     "text": [
      "Epoch: 2, Loss:  0.3669801950454712\n"
     ]
    },
    {
     "name": "stderr",
     "output_type": "stream",
     "text": [
      "72it [00:26,  2.71it/s]\n",
      "5it [00:02,  2.29it/s]\n",
      "0it [00:00, ?it/s]"
     ]
    },
    {
     "name": "stdout",
     "output_type": "stream",
     "text": [
      "Acc = 0.16666666666666666\n",
      "AUROC per tag\n"
     ]
    },
    {
     "name": "stderr",
     "output_type": "stream",
     "text": [
      "23it [00:11,  2.04it/s]\n",
      "23it [00:09,  2.54it/s]\n",
      "23it [00:10,  2.22it/s]\n",
      "23it [00:10,  2.16it/s]\n",
      "23it [00:10,  2.12it/s]\n",
      "23it [00:09,  2.51it/s]\n",
      "0it [00:00, ?it/s]"
     ]
    },
    {
     "name": "stdout",
     "output_type": "stream",
     "text": [
      "Epoch: 3, Loss:  0.28519922494888306\n"
     ]
    },
    {
     "name": "stderr",
     "output_type": "stream",
     "text": [
      "72it [00:26,  2.71it/s]\n",
      "5it [00:02,  2.28it/s]\n",
      "0it [00:00, ?it/s]"
     ]
    },
    {
     "name": "stdout",
     "output_type": "stream",
     "text": [
      "Acc = 0.1840277777777778\n",
      "AUROC per tag\n"
     ]
    },
    {
     "name": "stderr",
     "output_type": "stream",
     "text": [
      "23it [00:11,  2.05it/s]\n",
      "23it [00:09,  2.55it/s]\n",
      "23it [00:10,  2.23it/s]\n",
      "23it [00:10,  2.17it/s]\n",
      "23it [00:11,  2.06it/s]\n",
      "23it [00:09,  2.50it/s]\n",
      "0it [00:00, ?it/s]"
     ]
    },
    {
     "name": "stdout",
     "output_type": "stream",
     "text": [
      "Epoch: 4, Loss:  0.2558504045009613\n"
     ]
    },
    {
     "name": "stderr",
     "output_type": "stream",
     "text": [
      "72it [00:26,  2.70it/s]\n",
      "5it [00:02,  2.29it/s]\n",
      "0it [00:00, ?it/s]"
     ]
    },
    {
     "name": "stdout",
     "output_type": "stream",
     "text": [
      "Acc = 0.1875\n",
      "AUROC per tag\n"
     ]
    },
    {
     "name": "stderr",
     "output_type": "stream",
     "text": [
      "23it [00:11,  2.05it/s]\n",
      "23it [00:09,  2.51it/s]\n",
      "23it [00:10,  2.17it/s]\n",
      "23it [00:10,  2.16it/s]\n",
      "23it [00:10,  2.11it/s]\n",
      "23it [00:09,  2.49it/s]\n",
      "0it [00:00, ?it/s]"
     ]
    },
    {
     "name": "stdout",
     "output_type": "stream",
     "text": [
      "Epoch: 5, Loss:  0.28103017807006836\n"
     ]
    },
    {
     "name": "stderr",
     "output_type": "stream",
     "text": [
      "72it [00:26,  2.71it/s]\n",
      "5it [00:02,  2.29it/s]\n",
      "0it [00:00, ?it/s]"
     ]
    },
    {
     "name": "stdout",
     "output_type": "stream",
     "text": [
      "Acc = 0.2048611111111111\n",
      "AUROC per tag\n"
     ]
    },
    {
     "name": "stderr",
     "output_type": "stream",
     "text": [
      "23it [00:11,  2.05it/s]\n",
      "23it [00:09,  2.53it/s]\n",
      "23it [00:10,  2.23it/s]\n",
      "23it [00:10,  2.15it/s]\n",
      "23it [00:11,  2.06it/s]\n",
      "23it [00:09,  2.49it/s]\n",
      "0it [00:00, ?it/s]"
     ]
    },
    {
     "name": "stdout",
     "output_type": "stream",
     "text": [
      "Epoch: 6, Loss:  0.22354213893413544\n"
     ]
    },
    {
     "name": "stderr",
     "output_type": "stream",
     "text": [
      "72it [00:26,  2.71it/s]\n",
      "5it [00:02,  2.28it/s]\n",
      "0it [00:00, ?it/s]"
     ]
    },
    {
     "name": "stdout",
     "output_type": "stream",
     "text": [
      "Acc = 0.2222222222222222\n",
      "AUROC per tag\n"
     ]
    },
    {
     "name": "stderr",
     "output_type": "stream",
     "text": [
      "23it [00:11,  2.05it/s]\n",
      "23it [00:09,  2.55it/s]\n",
      "23it [00:10,  2.23it/s]\n",
      "23it [00:10,  2.17it/s]\n",
      "23it [00:10,  2.12it/s]\n",
      "23it [00:09,  2.51it/s]\n",
      "0it [00:00, ?it/s]"
     ]
    },
    {
     "name": "stdout",
     "output_type": "stream",
     "text": [
      "Epoch: 7, Loss:  0.20821642875671387\n"
     ]
    },
    {
     "name": "stderr",
     "output_type": "stream",
     "text": [
      "72it [00:27,  2.66it/s]\n",
      "5it [00:02,  2.27it/s]\n",
      "0it [00:00, ?it/s]"
     ]
    },
    {
     "name": "stdout",
     "output_type": "stream",
     "text": [
      "Acc = 0.24305555555555555\n",
      "AUROC per tag\n"
     ]
    },
    {
     "name": "stderr",
     "output_type": "stream",
     "text": [
      "23it [00:11,  2.05it/s]\n",
      "23it [00:09,  2.52it/s]\n",
      "23it [00:10,  2.23it/s]\n",
      "23it [00:10,  2.16it/s]\n",
      "23it [00:10,  2.12it/s]\n",
      "23it [00:09,  2.50it/s]\n",
      "0it [00:00, ?it/s]"
     ]
    },
    {
     "name": "stdout",
     "output_type": "stream",
     "text": [
      "Epoch: 8, Loss:  0.2076348066329956\n"
     ]
    },
    {
     "name": "stderr",
     "output_type": "stream",
     "text": [
      "72it [00:26,  2.69it/s]\n",
      "5it [00:02,  2.13it/s]\n",
      "0it [00:00, ?it/s]"
     ]
    },
    {
     "name": "stdout",
     "output_type": "stream",
     "text": [
      "Acc = 0.25\n",
      "AUROC per tag\n"
     ]
    },
    {
     "name": "stderr",
     "output_type": "stream",
     "text": [
      "23it [00:11,  2.04it/s]\n",
      "23it [00:09,  2.53it/s]\n",
      "23it [00:10,  2.21it/s]\n",
      "23it [00:10,  2.16it/s]\n",
      "23it [00:10,  2.12it/s]\n",
      "23it [00:09,  2.50it/s]\n",
      "0it [00:00, ?it/s]"
     ]
    },
    {
     "name": "stdout",
     "output_type": "stream",
     "text": [
      "Epoch: 9, Loss:  0.22511878609657288\n"
     ]
    },
    {
     "name": "stderr",
     "output_type": "stream",
     "text": [
      "72it [00:26,  2.70it/s]\n"
     ]
    },
    {
     "name": "stdout",
     "output_type": "stream",
     "text": [
      "loading best model, it was ./model_mBERT_crossling_lang_de_ep9.bin\n"
     ]
    },
    {
     "data": {
      "text/html": [
       "<br/>Waiting for W&B process to finish, PID 19232<br/>Program ended successfully."
      ],
      "text/plain": [
       "<IPython.core.display.HTML object>"
      ]
     },
     "metadata": {},
     "output_type": "display_data"
    },
    {
     "data": {
      "application/vnd.jupyter.widget-view+json": {
       "model_id": "",
       "version_major": 2,
       "version_minor": 0
      },
      "text/plain": [
       "VBox(children=(Label(value=' 0.00MB of 0.00MB uploaded (0.00MB deduped)\\r'), FloatProgress(value=1.0, max=1.0)…"
      ]
     },
     "metadata": {},
     "output_type": "display_data"
    },
    {
     "data": {
      "text/html": [
       "Find user logs for this run at: <code>E:\\!Incoming_projects\\StoryDB_eval\\wandb\\run-20210718_170958-hyxper6d\\logs\\debug.log</code>"
      ],
      "text/plain": [
       "<IPython.core.display.HTML object>"
      ]
     },
     "metadata": {},
     "output_type": "display_data"
    },
    {
     "data": {
      "text/html": [
       "Find internal logs for this run at: <code>E:\\!Incoming_projects\\StoryDB_eval\\wandb\\run-20210718_170958-hyxper6d\\logs\\debug-internal.log</code>"
      ],
      "text/plain": [
       "<IPython.core.display.HTML object>"
      ]
     },
     "metadata": {},
     "output_type": "display_data"
    },
    {
     "data": {
      "text/html": [
       "<h3>Run summary:</h3><br/><style>\n",
       "    table.wandb td:nth-child(1) { padding: 0 10px; text-align: right }\n",
       "    </style><table class=\"wandb\">\n",
       "<tr><td>hamming_score</td><td>0.39925</td></tr><tr><td>hamming_loss</td><td>0.15208</td></tr><tr><td>acc</td><td>0.25</td></tr><tr><td>epoch</td><td>9</td></tr><tr><td>model</td><td>mBERT</td></tr><tr><td>_runtime</td><td>929</td></tr><tr><td>_timestamp</td><td>1626618327</td></tr><tr><td>_step</td><td>169</td></tr><tr><td>tag_aucroc/drama</td><td>0.69677</td></tr><tr><td>tag_acc/drama</td><td>0.75694</td></tr><tr><td>tag_aucroc/comedy</td><td>0.62168</td></tr><tr><td>tag_acc/comedy</td><td>0.68056</td></tr><tr><td>tag_aucroc/television</td><td>0.53571</td></tr><tr><td>tag_acc/television</td><td>0.95486</td></tr><tr><td>tag_aucroc/fiction</td><td>0.79441</td></tr><tr><td>tag_acc/fiction</td><td>0.90625</td></tr><tr><td>tag_aucroc/series</td><td>0.53846</td></tr><tr><td>tag_acc/series</td><td>0.95833</td></tr><tr><td>tag_aucroc/action</td><td>0.76096</td></tr><tr><td>tag_acc/action</td><td>0.86458</td></tr><tr><td>tag_aucroc/thriller</td><td>0.62383</td></tr><tr><td>tag_acc/thriller</td><td>0.75694</td></tr><tr><td>tag_aucroc/black-and-white</td><td>0.56127</td></tr><tr><td>tag_acc/black-and-white</td><td>0.85764</td></tr><tr><td>tag_aucroc/science fiction</td><td>0.79441</td></tr><tr><td>tag_acc/science fiction</td><td>0.90625</td></tr><tr><td>tag_aucroc/horror</td><td>0.58529</td></tr><tr><td>tag_acc/horror</td><td>0.83681</td></tr><tr><td>lang_acc/en</td><td>0.19611</td></tr><tr><td>lang_acc/fr</td><td>0.23992</td></tr><tr><td>lang_acc/it</td><td>0.32197</td></tr><tr><td>lang_acc/ru</td><td>0.23366</td></tr><tr><td>lang_acc/de</td><td>0.64604</td></tr><tr><td>lang_acc/nl</td><td>0.3178</td></tr></table>"
      ],
      "text/plain": [
       "<IPython.core.display.HTML object>"
      ]
     },
     "metadata": {},
     "output_type": "display_data"
    },
    {
     "data": {
      "text/html": [
       "<h3>Run history:</h3><br/><style>\n",
       "    table.wandb td:nth-child(1) { padding: 0 10px; text-align: right }\n",
       "    </style><table class=\"wandb\">\n",
       "<tr><td>hamming_score</td><td>▃▁▃▆▆▇▇███</td></tr><tr><td>hamming_loss</td><td>█▂▁▁▁▁▁▁▁▁</td></tr><tr><td>acc</td><td>▁▁▃▆▆▆▇▇██</td></tr><tr><td>epoch</td><td>▁▁▁▁▂▂▂▂▃▃▃▃▃▃▃▃▄▄▄▄▅▅▅▅▆▆▆▆▆▆▆▆▇▇▇▇████</td></tr><tr><td>_runtime</td><td>▁▁▁▁▂▂▂▂▂▂▂▃▃▃▃▃▄▄▄▄▅▅▅▅▅▅▅▆▆▆▆▆▇▇▇▇████</td></tr><tr><td>_timestamp</td><td>▁▁▁▁▂▂▂▂▂▂▂▃▃▃▃▃▄▄▄▄▅▅▅▅▅▅▅▆▆▆▆▆▇▇▇▇████</td></tr><tr><td>_step</td><td>▁▁▁▁▂▂▂▂▂▃▃▃▃▃▃▄▄▄▄▄▅▅▅▅▅▅▆▆▆▆▆▇▇▇▇▇▇███</td></tr><tr><td>tag_aucroc/drama</td><td>▁▁▅▇▆█▇▇▇▇</td></tr><tr><td>tag_acc/drama</td><td>▃▃▆▃▁▆█▆▅█</td></tr><tr><td>tag_aucroc/comedy</td><td>▂▁▁▃▄▃▆▆▆█</td></tr><tr><td>tag_acc/comedy</td><td>▁▁▁▃▄▄█▇▆█</td></tr><tr><td>tag_aucroc/television</td><td>▁▁▁▁▁▁▁▁█▃</td></tr><tr><td>tag_acc/television</td><td>▁▁▁▁▁▁▁▁█▃</td></tr><tr><td>tag_aucroc/fiction</td><td>▃▁▇▆▇█████</td></tr><tr><td>tag_acc/fiction</td><td>▁▇██▇█▇███</td></tr><tr><td>tag_aucroc/series</td><td>▁▁▁▁▁▁▁▁█▃</td></tr><tr><td>tag_acc/series</td><td>▁█████████</td></tr><tr><td>tag_aucroc/action</td><td>▁▁▁▁▄▅▅▄▇█</td></tr><tr><td>tag_acc/action</td><td>▁█████████</td></tr><tr><td>tag_aucroc/thriller</td><td>▁▂▂▂▄▇▆██▆</td></tr><tr><td>tag_acc/thriller</td><td>▁████▇▆▇▇▇</td></tr><tr><td>tag_aucroc/black-and-white</td><td>▁▁▁▁▃▅▆█▂▆</td></tr><tr><td>tag_acc/black-and-white</td><td>▇▇▇▇▅█▇▁▄█</td></tr><tr><td>tag_aucroc/science fiction</td><td>▁▁▇▆▇█████</td></tr><tr><td>tag_acc/science fiction</td><td>▁▁▄▆▅▇▄█▇▅</td></tr><tr><td>tag_aucroc/horror</td><td>▁▁▁▁▃▅█▆▅▄</td></tr><tr><td>tag_acc/horror</td><td>▁█████████</td></tr><tr><td>lang_acc/en</td><td>▁▁▂▆▇▇█▇██</td></tr><tr><td>lang_acc/fr</td><td>▁▁▃▆▇▇▇▇▇█</td></tr><tr><td>lang_acc/it</td><td>▁▁▄▇█▇█▇██</td></tr><tr><td>lang_acc/ru</td><td>▁▁▃▇█▇▇███</td></tr><tr><td>lang_acc/de</td><td>▁▁▂▄▄▅▆▇▇█</td></tr><tr><td>lang_acc/nl</td><td>▁▁▃▇█▇▇▇██</td></tr></table><br/>"
      ],
      "text/plain": [
       "<IPython.core.display.HTML object>"
      ]
     },
     "metadata": {},
     "output_type": "display_data"
    },
    {
     "data": {
      "text/html": [
       "Synced 5 W&B file(s), 0 media file(s), 0 artifact file(s) and 0 other file(s)"
      ],
      "text/plain": [
       "<IPython.core.display.HTML object>"
      ]
     },
     "metadata": {},
     "output_type": "display_data"
    },
    {
     "data": {
      "text/html": [
       "\n",
       "                    <br/>Synced <strong style=\"color:#cdcd00\">polar-smoke-21</strong>: <a href=\"https://wandb.ai/altsoph/storydb_eval.task3/runs/hyxper6d\" target=\"_blank\">https://wandb.ai/altsoph/storydb_eval.task3/runs/hyxper6d</a><br/>\n",
       "                "
      ],
      "text/plain": [
       "<IPython.core.display.HTML object>"
      ]
     },
     "metadata": {},
     "output_type": "display_data"
    },
    {
     "data": {
      "text/html": [
       "\n",
       "                Tracking run with wandb version 0.11.0<br/>\n",
       "                Syncing run <strong style=\"color:#cdcd00\">fresh-terrain-22</strong> to <a href=\"https://wandb.ai\" target=\"_blank\">Weights & Biases</a> <a href=\"https://docs.wandb.com/integrations/jupyter.html\" target=\"_blank\">(Documentation)</a>.<br/>\n",
       "                Project page: <a href=\"https://wandb.ai/altsoph/storydb_eval.task3\" target=\"_blank\">https://wandb.ai/altsoph/storydb_eval.task3</a><br/>\n",
       "                Run page: <a href=\"https://wandb.ai/altsoph/storydb_eval.task3/runs/1x2febhu\" target=\"_blank\">https://wandb.ai/altsoph/storydb_eval.task3/runs/1x2febhu</a><br/>\n",
       "                Run data is saved locally in <code>E:\\!Incoming_projects\\StoryDB_eval\\wandb\\run-20210718_172615-1x2febhu</code><br/><br/>\n",
       "            "
      ],
      "text/plain": [
       "<IPython.core.display.HTML object>"
      ]
     },
     "metadata": {},
     "output_type": "display_data"
    },
    {
     "name": "stderr",
     "output_type": "stream",
     "text": [
      "wandb: WARNING Calling run.save without any arguments is deprecated.Changes to attributes are automatically persisted.\n",
      "5it [00:01,  2.66it/s]\n",
      "0it [00:00, ?it/s]"
     ]
    },
    {
     "name": "stdout",
     "output_type": "stream",
     "text": [
      "Acc = 0.0\n",
      "AUROC per tag\n"
     ]
    },
    {
     "name": "stderr",
     "output_type": "stream",
     "text": [
      "23it [00:11,  2.05it/s]\n",
      "23it [00:09,  2.53it/s]\n",
      "23it [00:10,  2.24it/s]\n",
      "23it [00:10,  2.17it/s]\n",
      "23it [00:10,  2.09it/s]\n",
      "23it [00:09,  2.44it/s]\n",
      "0it [00:00, ?it/s]"
     ]
    },
    {
     "name": "stdout",
     "output_type": "stream",
     "text": [
      "Epoch: 0, Loss:  0.700340747833252\n"
     ]
    },
    {
     "name": "stderr",
     "output_type": "stream",
     "text": [
      "72it [00:25,  2.86it/s]\n",
      "5it [00:01,  2.69it/s]\n",
      "0it [00:00, ?it/s]"
     ]
    },
    {
     "name": "stdout",
     "output_type": "stream",
     "text": [
      "Acc = 0.0\n",
      "AUROC per tag\n"
     ]
    },
    {
     "name": "stderr",
     "output_type": "stream",
     "text": [
      "23it [00:11,  2.04it/s]\n",
      "23it [00:09,  2.55it/s]\n",
      "23it [00:10,  2.22it/s]\n",
      "23it [00:10,  2.13it/s]\n",
      "23it [00:10,  2.09it/s]\n",
      "23it [00:09,  2.45it/s]\n",
      "0it [00:00, ?it/s]"
     ]
    },
    {
     "name": "stdout",
     "output_type": "stream",
     "text": [
      "Epoch: 1, Loss:  0.352981299161911\n"
     ]
    },
    {
     "name": "stderr",
     "output_type": "stream",
     "text": [
      "72it [00:25,  2.85it/s]\n",
      "5it [00:01,  2.70it/s]\n",
      "0it [00:00, ?it/s]"
     ]
    },
    {
     "name": "stdout",
     "output_type": "stream",
     "text": [
      "Acc = 0.16666666666666666\n",
      "AUROC per tag\n"
     ]
    },
    {
     "name": "stderr",
     "output_type": "stream",
     "text": [
      "23it [00:11,  2.05it/s]\n",
      "23it [00:09,  2.55it/s]\n",
      "23it [00:10,  2.22it/s]\n",
      "23it [00:10,  2.17it/s]\n",
      "23it [00:10,  2.12it/s]\n",
      "23it [00:09,  2.50it/s]\n",
      "0it [00:00, ?it/s]"
     ]
    },
    {
     "name": "stdout",
     "output_type": "stream",
     "text": [
      "Epoch: 2, Loss:  0.35686707496643066\n"
     ]
    },
    {
     "name": "stderr",
     "output_type": "stream",
     "text": [
      "72it [00:25,  2.80it/s]\n",
      "5it [00:01,  2.71it/s]\n",
      "0it [00:00, ?it/s]"
     ]
    },
    {
     "name": "stdout",
     "output_type": "stream",
     "text": [
      "Acc = 0.2152777777777778\n",
      "AUROC per tag\n"
     ]
    },
    {
     "name": "stderr",
     "output_type": "stream",
     "text": [
      "23it [00:11,  2.06it/s]\n",
      "23it [00:09,  2.55it/s]\n",
      "23it [00:10,  2.22it/s]\n",
      "23it [00:10,  2.16it/s]\n",
      "23it [00:10,  2.11it/s]\n",
      "23it [00:09,  2.47it/s]\n",
      "0it [00:00, ?it/s]"
     ]
    },
    {
     "name": "stdout",
     "output_type": "stream",
     "text": [
      "Epoch: 3, Loss:  0.2838011384010315\n"
     ]
    },
    {
     "name": "stderr",
     "output_type": "stream",
     "text": [
      "72it [00:25,  2.84it/s]\n",
      "5it [00:01,  2.68it/s]\n",
      "0it [00:00, ?it/s]"
     ]
    },
    {
     "name": "stdout",
     "output_type": "stream",
     "text": [
      "Acc = 0.3020833333333333\n",
      "AUROC per tag\n"
     ]
    },
    {
     "name": "stderr",
     "output_type": "stream",
     "text": [
      "23it [00:11,  2.06it/s]\n",
      "23it [00:09,  2.49it/s]\n",
      "23it [00:10,  2.18it/s]\n",
      "23it [00:10,  2.12it/s]\n",
      "23it [00:10,  2.12it/s]\n",
      "23it [00:09,  2.44it/s]\n",
      "0it [00:00, ?it/s]"
     ]
    },
    {
     "name": "stdout",
     "output_type": "stream",
     "text": [
      "Epoch: 4, Loss:  0.3555491268634796\n"
     ]
    },
    {
     "name": "stderr",
     "output_type": "stream",
     "text": [
      "72it [00:26,  2.67it/s]\n",
      "5it [00:02,  2.50it/s]\n",
      "0it [00:00, ?it/s]"
     ]
    },
    {
     "name": "stdout",
     "output_type": "stream",
     "text": [
      "Acc = 0.3159722222222222\n",
      "AUROC per tag\n"
     ]
    },
    {
     "name": "stderr",
     "output_type": "stream",
     "text": [
      "23it [00:11,  1.97it/s]\n",
      "23it [00:09,  2.46it/s]\n",
      "23it [00:10,  2.23it/s]\n",
      "23it [00:10,  2.12it/s]\n",
      "23it [00:10,  2.11it/s]\n",
      "23it [00:09,  2.47it/s]\n",
      "0it [00:00, ?it/s]"
     ]
    },
    {
     "name": "stdout",
     "output_type": "stream",
     "text": [
      "Epoch: 5, Loss:  0.20418210327625275\n"
     ]
    },
    {
     "name": "stderr",
     "output_type": "stream",
     "text": [
      "72it [00:25,  2.82it/s]\n",
      "5it [00:01,  2.67it/s]\n",
      "0it [00:00, ?it/s]"
     ]
    },
    {
     "name": "stdout",
     "output_type": "stream",
     "text": [
      "Acc = 0.3298611111111111\n",
      "AUROC per tag\n"
     ]
    },
    {
     "name": "stderr",
     "output_type": "stream",
     "text": [
      "23it [00:11,  2.06it/s]\n",
      "23it [00:08,  2.56it/s]\n",
      "23it [00:10,  2.24it/s]\n",
      "23it [00:10,  2.16it/s]\n",
      "23it [00:10,  2.10it/s]\n",
      "23it [00:09,  2.49it/s]\n",
      "0it [00:00, ?it/s]"
     ]
    },
    {
     "name": "stdout",
     "output_type": "stream",
     "text": [
      "Epoch: 6, Loss:  0.2096586972475052\n"
     ]
    },
    {
     "name": "stderr",
     "output_type": "stream",
     "text": [
      "72it [00:25,  2.83it/s]\n",
      "5it [00:01,  2.68it/s]\n",
      "0it [00:00, ?it/s]"
     ]
    },
    {
     "name": "stdout",
     "output_type": "stream",
     "text": [
      "Acc = 0.3159722222222222\n",
      "AUROC per tag\n"
     ]
    },
    {
     "name": "stderr",
     "output_type": "stream",
     "text": [
      "23it [00:11,  2.06it/s]\n",
      "23it [00:09,  2.54it/s]\n",
      "23it [00:10,  2.19it/s]\n",
      "23it [00:10,  2.15it/s]\n",
      "23it [00:10,  2.11it/s]\n",
      "23it [00:09,  2.49it/s]\n"
     ]
    },
    {
     "name": "stdout",
     "output_type": "stream",
     "text": [
      "loading best model, it was ./model_mBERT_crossling_lang_nl_ep6.bin\n"
     ]
    },
    {
     "data": {
      "text/html": [
       "<br/>Waiting for W&B process to finish, PID 19032<br/>Program ended successfully."
      ],
      "text/plain": [
       "<IPython.core.display.HTML object>"
      ]
     },
     "metadata": {},
     "output_type": "display_data"
    },
    {
     "data": {
      "application/vnd.jupyter.widget-view+json": {
       "model_id": "",
       "version_major": 2,
       "version_minor": 0
      },
      "text/plain": [
       "VBox(children=(Label(value=' 0.00MB of 0.00MB uploaded (0.00MB deduped)\\r'), FloatProgress(value=1.0, max=1.0)…"
      ]
     },
     "metadata": {},
     "output_type": "display_data"
    },
    {
     "data": {
      "text/html": [
       "Find user logs for this run at: <code>E:\\!Incoming_projects\\StoryDB_eval\\wandb\\run-20210718_172615-1x2febhu\\logs\\debug.log</code>"
      ],
      "text/plain": [
       "<IPython.core.display.HTML object>"
      ]
     },
     "metadata": {},
     "output_type": "display_data"
    },
    {
     "data": {
      "text/html": [
       "Find internal logs for this run at: <code>E:\\!Incoming_projects\\StoryDB_eval\\wandb\\run-20210718_172615-1x2febhu\\logs\\debug-internal.log</code>"
      ],
      "text/plain": [
       "<IPython.core.display.HTML object>"
      ]
     },
     "metadata": {},
     "output_type": "display_data"
    },
    {
     "data": {
      "text/html": [
       "<h3>Run summary:</h3><br/><style>\n",
       "    table.wandb td:nth-child(1) { padding: 0 10px; text-align: right }\n",
       "    </style><table class=\"wandb\">\n",
       "<tr><td>hamming_score</td><td>0.43299</td></tr><tr><td>hamming_loss</td><td>0.13264</td></tr><tr><td>acc</td><td>0.31597</td></tr><tr><td>epoch</td><td>7</td></tr><tr><td>model</td><td>mBERT</td></tr><tr><td>_runtime</td><td>730</td></tr><tr><td>_timestamp</td><td>1626619105</td></tr><tr><td>_step</td><td>135</td></tr><tr><td>tag_aucroc/drama</td><td>0.70924</td></tr><tr><td>tag_acc/drama</td><td>0.75</td></tr><tr><td>tag_aucroc/comedy</td><td>0.63802</td></tr><tr><td>tag_acc/comedy</td><td>0.72222</td></tr><tr><td>tag_aucroc/television</td><td>0.54348</td></tr><tr><td>tag_acc/television</td><td>0.92708</td></tr><tr><td>tag_aucroc/fiction</td><td>0.76437</td></tr><tr><td>tag_acc/fiction</td><td>0.93403</td></tr><tr><td>tag_aucroc/series</td><td>0.53571</td></tr><tr><td>tag_acc/series</td><td>0.95486</td></tr><tr><td>tag_aucroc/action</td><td>0.69373</td></tr><tr><td>tag_acc/action</td><td>0.86111</td></tr><tr><td>tag_aucroc/thriller</td><td>0.62346</td></tr><tr><td>tag_acc/thriller</td><td>0.82292</td></tr><tr><td>tag_aucroc/black-and-white</td><td>0.5</td></tr><tr><td>tag_acc/black-and-white</td><td>0.95139</td></tr><tr><td>tag_aucroc/science fiction</td><td>0.76437</td></tr><tr><td>tag_acc/science fiction</td><td>0.93403</td></tr><tr><td>tag_aucroc/horror</td><td>0.67913</td></tr><tr><td>tag_acc/horror</td><td>0.81597</td></tr><tr><td>lang_acc/en</td><td>0.17942</td></tr><tr><td>lang_acc/fr</td><td>0.22949</td></tr><tr><td>lang_acc/it</td><td>0.32476</td></tr><tr><td>lang_acc/ru</td><td>0.23366</td></tr><tr><td>lang_acc/de</td><td>0.2427</td></tr><tr><td>lang_acc/nl</td><td>0.58832</td></tr></table>"
      ],
      "text/plain": [
       "<IPython.core.display.HTML object>"
      ]
     },
     "metadata": {},
     "output_type": "display_data"
    },
    {
     "data": {
      "text/html": [
       "<h3>Run history:</h3><br/><style>\n",
       "    table.wandb td:nth-child(1) { padding: 0 10px; text-align: right }\n",
       "    </style><table class=\"wandb\">\n",
       "<tr><td>hamming_score</td><td>▃▁▄▆▇███</td></tr><tr><td>hamming_loss</td><td>█▁▁▁▁▁▁▁</td></tr><tr><td>acc</td><td>▁▁▅▆▇███</td></tr><tr><td>epoch</td><td>▁▁▁▁▁▂▂▂▂▂▃▃▃▃▃▄▄▄▄▄▅▅▅▅▅▆▆▆▆▆▇▇▇▇▇█████</td></tr><tr><td>_runtime</td><td>▁▁▁▁▁▂▂▂▂▂▃▃▃▃▃▄▄▄▄▄▅▅▅▅▅▆▆▆▆▆▆▆▆▇▇▇▇▇██</td></tr><tr><td>_timestamp</td><td>▁▁▁▁▁▂▂▂▂▂▃▃▃▃▃▄▄▄▄▄▅▅▅▅▅▆▆▆▆▆▆▆▆▇▇▇▇▇██</td></tr><tr><td>_step</td><td>▁▁▁▂▂▂▂▂▂▃▃▃▃▃▄▄▄▄▄▄▅▅▅▅▅▅▆▆▆▆▆▇▇▇▇▇▇███</td></tr><tr><td>tag_aucroc/drama</td><td>▂▁▆▇█▇▇▇</td></tr><tr><td>tag_acc/drama</td><td>▁▆▆▇▇███</td></tr><tr><td>tag_aucroc/comedy</td><td>▁▁▁▃▆██▆</td></tr><tr><td>tag_acc/comedy</td><td>▁▁▁▄█▆▅▇</td></tr><tr><td>tag_aucroc/television</td><td>▃▁▁▁▁▁█▄</td></tr><tr><td>tag_acc/television</td><td>▁███████</td></tr><tr><td>tag_aucroc/fiction</td><td>▁▁▂█▆█▆▆</td></tr><tr><td>tag_acc/fiction</td><td>▁███████</td></tr><tr><td>tag_aucroc/series</td><td>▅▁▁▁▁▁██</td></tr><tr><td>tag_acc/series</td><td>▁███████</td></tr><tr><td>tag_aucroc/action</td><td>▁▁▁▁▇▆▆█</td></tr><tr><td>tag_acc/action</td><td>▁▂▂▂▅▄██</td></tr><tr><td>tag_aucroc/thriller</td><td>▁▂▂▂▂▂▂█</td></tr><tr><td>tag_acc/thriller</td><td>▁███████</td></tr><tr><td>tag_aucroc/black-and-white</td><td>█▁▁▁▁▁▁▁</td></tr><tr><td>tag_acc/black-and-white</td><td>▁███████</td></tr><tr><td>tag_aucroc/science fiction</td><td>▁▂▃█▆▇▇▆</td></tr><tr><td>tag_acc/science fiction</td><td>▁███████</td></tr><tr><td>tag_aucroc/horror</td><td>▁▁▁▁▁▁▇█</td></tr><tr><td>tag_acc/horror</td><td>▁██████▇</td></tr><tr><td>lang_acc/en</td><td>▁▁▃▅▇███</td></tr><tr><td>lang_acc/fr</td><td>▁▁▄▅▆███</td></tr><tr><td>lang_acc/it</td><td>▁▁▄▅▇▇██</td></tr><tr><td>lang_acc/ru</td><td>▁▁▃▄▇▇██</td></tr><tr><td>lang_acc/de</td><td>▁▁▄▅▆▇█▇</td></tr><tr><td>lang_acc/nl</td><td>▁▁▃▄▆▆▇█</td></tr></table><br/>"
      ],
      "text/plain": [
       "<IPython.core.display.HTML object>"
      ]
     },
     "metadata": {},
     "output_type": "display_data"
    },
    {
     "data": {
      "text/html": [
       "Synced 5 W&B file(s), 0 media file(s), 0 artifact file(s) and 0 other file(s)"
      ],
      "text/plain": [
       "<IPython.core.display.HTML object>"
      ]
     },
     "metadata": {},
     "output_type": "display_data"
    },
    {
     "data": {
      "text/html": [
       "\n",
       "                    <br/>Synced <strong style=\"color:#cdcd00\">fresh-terrain-22</strong>: <a href=\"https://wandb.ai/altsoph/storydb_eval.task3/runs/1x2febhu\" target=\"_blank\">https://wandb.ai/altsoph/storydb_eval.task3/runs/1x2febhu</a><br/>\n",
       "                "
      ],
      "text/plain": [
       "<IPython.core.display.HTML object>"
      ]
     },
     "metadata": {},
     "output_type": "display_data"
    }
   ],
   "source": [
    "for cl in work_langs:\n",
    "    model = WorkModel()\n",
    "    model.to(device)\n",
    "    optimizer = torch.optim.Adam(params =  model.parameters(), lr=LEARNING_RATE)\n",
    "\n",
    "    lang_data = new_df[new_df['language']==cl]\n",
    "    lang_train_data = lang_data.sample(frac=train_size,random_state=200)\n",
    "    lang_test_data = lang_data.drop(lang_train_data.index).reset_index(drop=True)\n",
    "    lang_train_data = lang_train_data.reset_index(drop=True)\n",
    "\n",
    "    training_set = MultiLabelDataset(lang_train_data, tokenizer, MAX_LEN)\n",
    "    testing_set = MultiLabelDataset(lang_test_data, tokenizer, MAX_LEN)\n",
    "\n",
    "    prev_acc = -1\n",
    "    \n",
    "    training_loader = DataLoader(training_set, **train_params)\n",
    "    testing_loader = DataLoader(testing_set, **test_params)    \n",
    "\n",
    "    run = wandb.init(project=\"storydb_eval.task3\", reinit=True)\n",
    "    wandb.run.name = f'{LOG_PREFIX}_{cl}'\n",
    "    wandb.run.save()    \n",
    "    \n",
    "    best_model = None\n",
    "    output_model_file = None\n",
    "    for epoch in range(EPOCHS):\n",
    "        acc = valid(testing_loader, epoch=epoch)\n",
    "        valid_cross(cl, epoch = epoch)\n",
    "        if acc<prev_acc and best_model: break\n",
    "        prev_acc = acc\n",
    "        best_model = output_model_file\n",
    "        train(epoch)\n",
    "        output_model_file = f'./model_{SAVE_PREFIX}_lang_{cl}_ep{epoch+1}.bin'\n",
    "        torch.save(model.state_dict(), output_model_file)\n",
    "    if acc>prev_acc:\n",
    "        acc = valid(testing_loader, epoch=EPOCHS)\n",
    "        if acc>prev_acc:\n",
    "            best_model = output_model_file\n",
    "    \n",
    "    print(f'loading best model, it was {best_model}')\n",
    "    model.load_state_dict(torch.load(best_model))\n",
    "    \n",
    "    run.finish()\n"
   ]
  },
  {
   "cell_type": "code",
   "execution_count": null,
   "metadata": {},
   "outputs": [],
   "source": [
    "\n",
    "\n",
    "\n"
   ]
  },
  {
   "cell_type": "code",
   "execution_count": null,
   "metadata": {},
   "outputs": [],
   "source": []
  },
  {
   "cell_type": "code",
   "execution_count": null,
   "metadata": {},
   "outputs": [],
   "source": []
  }
 ],
 "metadata": {
  "kernelspec": {
   "display_name": "Python 3",
   "language": "python",
   "name": "python3"
  },
  "language_info": {
   "codemirror_mode": {
    "name": "ipython",
    "version": 3
   },
   "file_extension": ".py",
   "mimetype": "text/x-python",
   "name": "python",
   "nbconvert_exporter": "python",
   "pygments_lexer": "ipython3",
   "version": "3.8.5"
  }
 },
 "nbformat": 4,
 "nbformat_minor": 4
}
